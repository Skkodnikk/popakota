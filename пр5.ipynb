{
  "nbformat": 4,
  "nbformat_minor": 0,
  "metadata": {
    "colab": {
      "provenance": [],
      "authorship_tag": "ABX9TyNfQBhIKP+mfRfIgQW+MURe",
      "include_colab_link": true
    },
    "kernelspec": {
      "name": "python3",
      "display_name": "Python 3"
    },
    "language_info": {
      "name": "python"
    }
  },
  "cells": [
    {
      "cell_type": "markdown",
      "metadata": {
        "id": "view-in-github",
        "colab_type": "text"
      },
      "source": [
        "<a href=\"https://colab.research.google.com/github/Skkodnikk/popakota/blob/main/%D0%BF%D1%805.ipynb\" target=\"_parent\"><img src=\"https://colab.research.google.com/assets/colab-badge.svg\" alt=\"Open In Colab\"/></a>"
      ]
    },
    {
      "cell_type": "code",
      "execution_count": 42,
      "metadata": {
        "colab": {
          "base_uri": "https://localhost:8080/"
        },
        "id": "OV7P4ofqg1tB",
        "outputId": "730233fc-733d-4328-ce2d-e43b4713503c"
      },
      "outputs": [
        {
          "output_type": "stream",
          "name": "stdout",
          "text": [
            "Введите строку из целых чисел через пробел: 1 2 3 4 5 6 7 8 9\n",
            "Введите число C: 3\n",
            "Список: [1, 2, 3, 4, 5, 6, 7, 8, 9]\n",
            "Кортеж: (1, 2, 3, 4, 5, 6, 7, 8, 9)\n",
            "Множество: {1, 2, 3, 4, 5, 6, 7, 8, 9}\n",
            "Количество элементов больше C в списке: 6\n",
            "Количество элементов больше C в кортеже: 6\n",
            "Количество элементов больше C во множестве: 6\n",
            "Сумма элементов между первым и последним положительным элементами: 35\n"
          ]
        }
      ],
      "source": [
        "#1\n",
        "n = input(\"Введите строку из целых чисел через пробел: \")\n",
        "nl = list(map(int, n.split()))\n",
        "nl = nl\n",
        "nt = tuple(nl)\n",
        "ns = set(nl)\n",
        "C = int(input(\"Введите число C: \"))\n",
        "cl = sum(1 for x in nl if x > C)\n",
        "ct = sum(1 for x in nt if x > C)\n",
        "cs = sum(1 for x in ns if x > C)\n",
        "positive_indices = [i for i, x in enumerate(nl) if x > 0]\n",
        "if len(positive_indices) >= 2:\n",
        "    s = sum(nl[positive_indices[0]+1:positive_indices[-1]])\n",
        "print(\"Список:\", nl)\n",
        "print(\"Кортеж:\", nt)\n",
        "print(\"Множество:\", ns)\n",
        "print(\"Количество элементов больше C в списке:\", cl)\n",
        "print(\"Количество элементов больше C в кортеже:\", ct)\n",
        "print(\"Количество элементов больше C во множестве:\", cs)\n",
        "if len(positive_indices) >= 2:\n",
        "    print(\"Сумма элементов:\", s)"
      ]
    },
    {
      "cell_type": "code",
      "source": [
        "#2\n",
        "import datetime\n",
        "print(datetime.datetime.now())"
      ],
      "metadata": {
        "colab": {
          "base_uri": "https://localhost:8080/"
        },
        "id": "ZsNXOgFWh9AI",
        "outputId": "2a78e588-ecf1-473d-873b-6950b6a46952"
      },
      "execution_count": 38,
      "outputs": [
        {
          "output_type": "stream",
          "name": "stdout",
          "text": [
            "2024-03-27 11:40:44.500901\n"
          ]
        }
      ]
    },
    {
      "cell_type": "code",
      "source": [
        "#3\n",
        "import random\n",
        "a = random.randint(1, 100)\n",
        "print(\"число из диапазона:\", a)\n",
        "b = random.randint(0, 100)\n",
        "print(\"целое число:\", b)\n",
        "c = random.random()\n",
        "print(\"от 0 до 1:\", c)\n",
        "s = [1, 2, 3, 4, 5]\n",
        "d = random.choice(s)\n",
        "print(\"из последовательности:\", d)\n",
        "random.shuffle(s)\n",
        "print(\"последовательность:\", s)"
      ],
      "metadata": {
        "colab": {
          "base_uri": "https://localhost:8080/"
        },
        "id": "OP1Yiww2h9UX",
        "outputId": "8d9f2db7-61f7-47d1-973f-042ecb5dc898"
      },
      "execution_count": 18,
      "outputs": [
        {
          "output_type": "stream",
          "name": "stdout",
          "text": [
            "число из диапазона: 67\n",
            "целое число: 35\n",
            "от 0 до 1: 0.5758689933615888\n",
            "из последовательности: 3\n",
            "последовательность: [3, 5, 4, 1, 2]\n"
          ]
        }
      ]
    },
    {
      "cell_type": "code",
      "source": [
        "#4\n",
        "import random\n",
        "a = 'ABCDEFGHIJKLMNOPQRSTUVWXYZ'\n",
        "b = 'abcdefghijklmnopqrstuvwxyz'\n",
        "c = '1234567890'\n",
        "d = '!@#$%^&*()-+'\n",
        "p = []\n",
        "p.append(random.choice(a))\n",
        "p.append(random.choice(b))\n",
        "p.append(random.choice(c))\n",
        "p.append(random.choice(d))\n",
        "for i in range(4):\n",
        "    p.append(random.choice(a + b + c + d))\n",
        "random.shuffle(p)\n",
        "s = ''.join(p)\n",
        "print(s)"
      ],
      "metadata": {
        "colab": {
          "base_uri": "https://localhost:8080/"
        },
        "id": "8p5QMixkh9fl",
        "outputId": "4b75617c-db52-47ff-c65d-2a123a6519c5"
      },
      "execution_count": 41,
      "outputs": [
        {
          "output_type": "stream",
          "name": "stdout",
          "text": [
            "(OB8Ewm3\n"
          ]
        }
      ]
    },
    {
      "cell_type": "code",
      "source": [
        "#5\n",
        "a = input(\"Введите арифметическое выражение: \")\n",
        "r = eval(a)\n",
        "print(\"Результат:\", r)"
      ],
      "metadata": {
        "colab": {
          "base_uri": "https://localhost:8080/"
        },
        "id": "PyP3bVdauxuk",
        "outputId": "e119c328-9440-4bbd-aec8-c289cd629bb2"
      },
      "execution_count": 47,
      "outputs": [
        {
          "output_type": "stream",
          "name": "stdout",
          "text": [
            "Введите арифметическое выражение: 9**3\n",
            "Результат: 729\n"
          ]
        }
      ]
    },
    {
      "cell_type": "code",
      "source": [
        "def a(b):\n",
        "    b = b.replace(' ', '')\n",
        "    if '^' in b:\n",
        "        var = b.split('^')\n",
        "        print(int(var[0]) + int(var[-1]))\n",
        "    elif '-' in b:\n",
        "        var = b.split('-')\n",
        "        print(int(var[0]) - int(var[-1]))\n",
        "a('2^2')\n",
        "a('2-1')"
      ],
      "metadata": {
        "colab": {
          "base_uri": "https://localhost:8080/"
        },
        "id": "J_Ld__CZ4WMA",
        "outputId": "6f2dc867-3d1f-4086-8dcb-fcd54ce51aaa"
      },
      "execution_count": 59,
      "outputs": [
        {
          "output_type": "stream",
          "name": "stdout",
          "text": [
            "4\n",
            "1\n"
          ]
        }
      ]
    },
    {
      "cell_type": "code",
      "source": [
        "a('230-10')"
      ],
      "metadata": {
        "colab": {
          "base_uri": "https://localhost:8080/"
        },
        "id": "xTEeE5Oc7Mlw",
        "outputId": "39809701-433b-4a66-d3ba-9165baf1b305"
      },
      "execution_count": 62,
      "outputs": [
        {
          "output_type": "stream",
          "name": "stdout",
          "text": [
            "220\n"
          ]
        }
      ]
    }
  ]
}
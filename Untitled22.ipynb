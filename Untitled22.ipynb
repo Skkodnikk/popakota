{
  "nbformat": 4,
  "nbformat_minor": 0,
  "metadata": {
    "colab": {
      "provenance": [],
      "authorship_tag": "ABX9TyP1xlgXx6jdn/3f2/28RPIF",
      "include_colab_link": true
    },
    "kernelspec": {
      "name": "python3",
      "display_name": "Python 3"
    },
    "language_info": {
      "name": "python"
    }
  },
  "cells": [
    {
      "cell_type": "markdown",
      "metadata": {
        "id": "view-in-github",
        "colab_type": "text"
      },
      "source": [
        "<a href=\"https://colab.research.google.com/github/Skkodnikk/popakota/blob/main/Untitled22.ipynb\" target=\"_parent\"><img src=\"https://colab.research.google.com/assets/colab-badge.svg\" alt=\"Open In Colab\"/></a>"
      ]
    },
    {
      "cell_type": "code",
      "execution_count": null,
      "metadata": {
        "id": "VWqnQKh_J-Tj"
      },
      "outputs": [],
      "source": [
        "# 1\n",
        "import pandas as pd\n",
        "import numpy as np\n",
        "import matplotlib.pyplot as plt\n",
        "from sklearn.metrics import mean_absolute_error, mean_squared_error\n",
        "from sklearn.preprocessing import StandardScaler\n",
        "from sklearn import neighbors\n",
        "from sklearn import linear_model\n",
        "from sklearn.tree import DecisionTreeClassifier\n",
        "from sklearn.ensemble import RandomForestClassifier\n",
        "from sklearn.metrics import mean_absolute_error, mean_squared_error\n",
        "import seaborn as sns\n",
        "from sklearn.preprocessing import RobustScaler\n",
        "from sklearn.model_selection import StratifiedKFold\n",
        "from scipy.stats import norm\n",
        "from sklearn.model_selection import train_test_split, GridSearchCV\n",
        "from sklearn.linear_model import LogisticRegression\n",
        "from sklearn.svm import SVC\n",
        "from sklearn.neighbors import KNeighborsClassifier\n",
        "from sklearn.metrics import accuracy_score, precision_score, recall_score, f1_score"
      ]
    },
    {
      "cell_type": "markdown",
      "source": [
        "1. from sklearn.metrics import meanabsoluteerror, meansquarederror\n",
        "   - meanabsoluteerror: Функция для вычисления средней абсолютной ошибки (MAE) между предсказанными и фактическими значениями. Это полезная метрика для регрессии, которая дает представление о том, насколько точно модель предсказывает значения.\n",
        "   - meansquarederror: Функция для вычисления средней квадратичной ошибки (MSE). Она также используется в регрессионных задачах и чувствительна к выбросам, так как квадратирует ошибки.\n",
        "\n",
        "2. from sklearn.preprocessing import StandardScaler\n",
        "   - StandardScaler: Класс для стандартизации признаков, который убирает среднее значение и масштабирует данные к единичной дисперсии. Это важно для моделей, основанных на расстоянии, таких как k-ближайшие соседи.\n",
        "\n",
        "3. from sklearn import neighbors\n",
        "   - neighbors: Модуль, который включает алгоритмы, основанные на подходе ближайших соседей, такие как k-ближайшие соседи (KNN). Эти алгоритмы часто используются как для классификации, так и для регрессии.\n",
        "\n",
        "4. from sklearn import linearmodel**\n",
        "   - **linearmodel: Модуль, содержащий различные алгоритмы линейной регрессии и логистической регрессии. Линейные модели просты в интерпретации и часто используются в задачах регрессии и классификации.\n",
        "\n",
        "5. from sklearn.tree import DecisionTreeClassifier\n",
        "   - DecisionTreeClassifier: Класс для создания дерева решений для задач классификации. Деревья решений предоставляют простую в интерпретации модель, делая прогнозы на основе наборов правил, которые основаны на значениях признаков.\n",
        "\n",
        "6. from sklearn.ensemble import RandomForestClassifier\n",
        "   - RandomForestClassifier: Класс для создания случайного леса, который объединяет несколько деревьев решений для улучшения точности и устойчивости. Это снижает риск переобучения по сравнению с одиночным деревом решений.\n",
        "\n",
        "7. from sklearn.preprocessing import RobustScaler\n",
        "   - RobustScaler: Класс, который масштабирует данные, используя медиану и межквартильный размах, что делает его более устойчивым к выбросам, чем StandardScaler.\n",
        "\n",
        "8. from sklearn.modelselection import StratifiedKFold**\n",
        "   - **StratifiedKFold**: Класс для кросс-валидации, который обеспечивает сохранение пропорций классов в каждой выборке. Это особенно полезно для несбалансированных наборов данных.\n",
        "\n",
        "9. **from scipy.stats import norm**\n",
        "   - **norm**: Модуль из библиотеки SciPy, который предоставляет функции для работы с нормальным распределением. Его можно использовать для статистического анализа и проверки гипотез.\n",
        "\n",
        "10. **from sklearn.modelselection import traintestsplit, GridSearchCV\n",
        "    - traintestsplit: Функция для разделения массива или фрейма данных на обучающую и тестовую выборки. Это важно для проверки модели на независимых данных.\n",
        "    - GridSearchCV: Класс для поиска оптимальных гиперпараметров с использованием кросс-валидации. Он позволяет систематически перебирать множество комбинаций параметров и определять наилучшие.\n",
        "\n",
        "11. from sklearn.linearmodel import LogisticRegression**\n",
        "    - **LogisticRegression**: Класс для реализации логистической регрессии для бинарной или многоклассовой классификации. Он оценивает вероятности различных классов, используя экспоненциальную функцию.\n",
        "\n",
        "12. **from sklearn.svm import SVC**\n",
        "    - **SVC**: Класс для создания модели опорных векторов (Support Vector Classifier). Этот алгоритм ищет оптимальную гиперплоскость, отделяющую классы в пространстве признаков.\n",
        "\n",
        "13. **from sklearn.neighbors import KNeighborsClassifier**\n",
        "    - **KNeighborsClassifier**: Класс для реализации алгоритма k-ближайших соседей для классификации. Он классифицирует объект на основе классов его k ближайших соседей.\n",
        "\n",
        "14. **from sklearn.metrics import accuracyscore, precisionscore, recallscore, f1score**\n",
        "    - **accuracyscore: Функция для вычисления доли правильно классифицированных экземпляров (точность).\n",
        "- **precision_score**: Функция для вычисления точности (точность = TP / (TP + FP)), которая показывает, насколько правильно модель классифицировала положительные экземпляры.\n",
        "    - **recall_score**: Функция для вычисления полноты (полнота = TP / (TP + FN)), которая показывает, насколько хорошо модель находит положительные экземпляры.\n",
        "    - **f1_score**: Функция, объединяющая точность и полноту в единую метрику, которая полезна для несбалансированных классов. Это гармоническое среднее между точностью и полнотой.\n"
      ],
      "metadata": {
        "id": "nppJCrPnL4Xg"
      }
    },
    {
      "cell_type": "code",
      "source": [
        "# 2\n",
        "df = pd.read_csv('data.csv')\n",
        "df"
      ],
      "metadata": {
        "id": "GcqdrLgBL4zj"
      },
      "execution_count": null,
      "outputs": []
    },
    {
      "cell_type": "markdown",
      "source": [
        "Загрузка данных из CSV файла"
      ],
      "metadata": {
        "id": "FKpzuyz3YKl1"
      }
    },
    {
      "cell_type": "code",
      "source": [
        "# 3.1\n",
        "df.head()"
      ],
      "metadata": {
        "id": "CkrD1bHBL43c"
      },
      "execution_count": null,
      "outputs": []
    },
    {
      "cell_type": "markdown",
      "source": [
        "Вывод первых 5 строк данных для ознакомления"
      ],
      "metadata": {
        "id": "M3LeI1l3YLeA"
      }
    },
    {
      "cell_type": "code",
      "source": [
        "df.info()"
      ],
      "metadata": {
        "id": "tJoBoHzBL47O"
      },
      "execution_count": null,
      "outputs": []
    },
    {
      "cell_type": "markdown",
      "source": [
        "Информация о типах данных и количестве ненулевых значений"
      ],
      "metadata": {
        "id": "a6iuvR0jYadD"
      }
    },
    {
      "cell_type": "code",
      "source": [
        "df.describe()"
      ],
      "metadata": {
        "id": "BPTGrcqcL4-y"
      },
      "execution_count": null,
      "outputs": []
    },
    {
      "cell_type": "markdown",
      "source": [
        "Статистические характеристики числовых переменных"
      ],
      "metadata": {
        "id": "V-CKEkENYZDy"
      }
    },
    {
      "cell_type": "code",
      "source": [
        "# 3.2\n",
        "df.isnull().sum()"
      ],
      "metadata": {
        "id": "oUPcApslL5CW"
      },
      "execution_count": null,
      "outputs": []
    },
    {
      "cell_type": "markdown",
      "source": [
        "Подсчет пустых значений в каждом столбце"
      ],
      "metadata": {
        "id": "OBjQFtSKYjkB"
      }
    },
    {
      "cell_type": "code",
      "source": [
        "# 3.3\n",
        "X = df.drop('column', axis=1)\n",
        "Y = df['column']\n",
        "X.info()\n",
        "Y.info()"
      ],
      "metadata": {
        "id": "2UEb4ip8L5Gr"
      },
      "execution_count": null,
      "outputs": []
    },
    {
      "cell_type": "markdown",
      "source": [
        "Деление на Х и Y. Удаление целевой переменной из признаков"
      ],
      "metadata": {
        "id": "FdIRmsOmYqFy"
      }
    },
    {
      "cell_type": "code",
      "source": [
        "X_train, X_test, Y_train, Y_test = train_test_split(X_std, Y, train_size=0.7)\n",
        "Y_train.shape, Y_test.shape"
      ],
      "metadata": {
        "id": "dkOuwSFLPHeB"
      },
      "execution_count": null,
      "outputs": []
    },
    {
      "cell_type": "code",
      "source": [
        "# 3.4\n",
        "X = pd.get_dummies(X)\n",
        "X.info()\n",
        "X.head()"
      ],
      "metadata": {
        "id": "aEUlBA_ePD40"
      },
      "execution_count": null,
      "outputs": []
    },
    {
      "cell_type": "markdown",
      "source": [
        "перевод категориальных данных в числовые"
      ],
      "metadata": {
        "id": "-V_AV6OoYxdh"
      }
    },
    {
      "cell_type": "code",
      "source": [
        "# 3.5\n",
        "print('Распределение классов в подвыборке')\n",
        "print(new_df['column'].value_counts()/len(new_df))\n",
        "sns.countplot(x='column', data = new_df, palette='color')\n",
        "plt.title('Распределение классов', fontsize=14)\n",
        "plt.show()"
      ],
      "metadata": {
        "id": "8e3vLSYtPEAq"
      },
      "execution_count": null,
      "outputs": []
    },
    {
      "cell_type": "markdown",
      "source": [
        "проверка на балансировку классов"
      ],
      "metadata": {
        "id": "9b9WAhn_Y0KI"
      }
    },
    {
      "cell_type": "code",
      "source": [
        "# 3.6\n",
        "column_fraud = new_df['column'].loc[new_df['Class'] == 1].values\n",
        "q25, q75 = np.percentile(column_fraud, 25), np.percentile(column_fraud, 75)\n",
        "print('Квартиль 75: {} | Квартиль 75: {}'.format(q25, q75))\n",
        "column_iqr = q75 - q25\n",
        "print('iqr: {}'.format(column_iqr))\n",
        "\n",
        "column_cut_off = column_iqr * 1.5\n",
        "column_lower, column_upper = q25 - column_cut_off, q75 +column_cut_off\n",
        "print('Порог: {}'.format(column_cut_off))\n",
        "print('column нижняя граница: {}'.format(column_lower))\n",
        "print('column верхняя граница: {}'.format(column_upper))\n",
        "\n",
        "outliers = [x for x in column_fraud if x < column_lower or x > column_upper]\n",
        "print('Количество выбросов: {}'.format(len(outliers)))\n",
        "\n",
        "new_df = new_df.drop(new_df[(new_df['column'] > column_upper) | (new_df['column'] < column_lower)].index)"
      ],
      "metadata": {
        "id": "X8FF6Dw6ShLQ"
      },
      "execution_count": null,
      "outputs": []
    },
    {
      "cell_type": "markdown",
      "source": [
        "Код идентифицирует и устраняет выбросы в столбце, ориентируясь на значения класса"
      ],
      "metadata": {
        "id": "q5FE_2DRY2zv"
      }
    },
    {
      "cell_type": "code",
      "source": [
        "# 4\n",
        "scaler = StandardScaler().fit(X)\n",
        "std = scaler. transform(X)\n",
        "X_std = pd.DataFrame(std)\n",
        "X_std"
      ],
      "metadata": {
        "id": "RpwNjiC8L5OQ"
      },
      "execution_count": null,
      "outputs": []
    },
    {
      "cell_type": "markdown",
      "source": [
        "Произвели масштабирование данных с применением стандартизации."
      ],
      "metadata": {
        "id": "m2a9r3KIVHbp"
      }
    },
    {
      "cell_type": "code",
      "source": [
        "rob_scaler = RobustScaler()\n",
        "df['column1'] = rob_scaler.fit_transform(df['column'].values.reshape(-1,1))"
      ],
      "metadata": {
        "id": "F4_h9PCOL5SK"
      },
      "execution_count": null,
      "outputs": []
    },
    {
      "cell_type": "markdown",
      "source": [
        "Произвели масштабирование для конкретного столбца"
      ],
      "metadata": {
        "id": "jOW0TNIjVJA7"
      }
    },
    {
      "cell_type": "code",
      "source": [
        "# 5\n",
        "knn = neighbors.KNeighborsClassifier()\n",
        "params = {'n_neighbors': [ 2, 3, 4, 5, 6, 7, 8, 9], 'metric':['column','column']}\n",
        "grid = GridSearchCV(estimator = knn, param_grid = params)\n",
        "grid.fit(X_train, Y_train)\n",
        "print(grid.best_score_)\n",
        "print(grid.best_estimator_.n_neighbors)\n",
        "print(grid.best_estimator_.metric)"
      ],
      "metadata": {
        "id": "LWpAKkH0L5Vo"
      },
      "execution_count": null,
      "outputs": []
    },
    {
      "cell_type": "markdown",
      "source": [
        "подбор гиперпарамметров"
      ],
      "metadata": {
        "id": "7B6euS0cVKJ8"
      }
    },
    {
      "cell_type": "code",
      "source": [
        "# 6.1\n",
        "regressor = RandomForestRegressor()\n",
        "regressor.fit(X_scaled, Y)"
      ],
      "metadata": {
        "id": "g5QYIhaGL5ZK"
      },
      "execution_count": null,
      "outputs": []
    },
    {
      "cell_type": "markdown",
      "source": [
        "Создаем объект модели регрессии"
      ],
      "metadata": {
        "id": "YA3-i7-IUGR-"
      }
    },
    {
      "cell_type": "code",
      "source": [
        "# 6.2\n",
        "classifier = RandomForestClassifier()\n",
        "classifier.fit(X_scaled, Y)"
      ],
      "metadata": {
        "id": "fUDGxNesL5cv"
      },
      "execution_count": null,
      "outputs": []
    },
    {
      "cell_type": "markdown",
      "source": [
        "Создаем объект модели классификации"
      ],
      "metadata": {
        "id": "xCW86hdUUFg6"
      }
    },
    {
      "cell_type": "code",
      "source": [
        "# 7\n",
        "logreg = LogisticRegression()\n",
        "logreg.fit(X_train, Y_train)\n",
        "Y_train_pred_logreg = logreg.predict(X_train)\n",
        "Y_test_pred_logreg = logreg.predict(X_test)\n",
        "print(f'LogisticRegression - Accuracy test:', accuracy_score(Y_test, Y_test_pred_logreg))\n",
        "print(f'LogisticRegression - Accuracy train:', accuracy_score(Y_train, Y_train_pred_logreg))\n",
        "print(f'LogisticRegression - Precision test:', accuracy_score(Y_test, Y_test_pred_logreg))\n",
        "print(f'LogisticRegression - Precision train:', accuracy_score(Y_train, Y_train_pred_logreg))\n",
        "print(f'LogisticRegression - Recall test:', accuracy_score(Y_test, Y_test_pred_logreg))\n",
        "print(f'LogisticRegression - Recall train:', accuracy_score(Y_train, Y_train_pred_logreg))\n",
        "print(f'LogisticRegression - F1 test:', f1_score(Y_test, Y_test_pred_logreg, average='macro'))\n",
        "print(f'LogisticRegression - F1 train:', f1_score(Y_train, Y_train_pred_logreg, average='macro'))"
      ],
      "metadata": {
        "id": "5HrXMw-VL5f8"
      },
      "execution_count": null,
      "outputs": []
    },
    {
      "cell_type": "markdown",
      "source": [
        "Проверки качества модели логистической регрессии"
      ],
      "metadata": {
        "id": "jfLFIkREWI5P"
      }
    },
    {
      "cell_type": "code",
      "source": [
        "svc = SVC()\n",
        "svc.fit(X_train, Y_train)\n",
        "y_pred_svc_test = svc.predict(X_test)\n",
        "y_pred_svc_train = svc.predict(X_train)\n",
        "print(f'SVC - Accuracy test:', accuracy_score(Y_test, y_pred_svc_test))\n",
        "print(f'SVC - Accuracy train:', accuracy_score(Y_train, y_pred_svc_train))\n",
        "print(f'SVC - Precision test:', accuracy_score(Y_test, y_pred_svc_test))\n",
        "print(f'SVC - Precision train:', accuracy_score(Y_train, y_pred_svc_train))\n",
        "print(f'SVC - Recall test:', accuracy_score(Y_test, y_pred_svc_test))\n",
        "print(f'SVC - Recall train:', accuracy_score(Y_train, y_pred_svc_train))\n",
        "print(f'SVC - F1 test:', f1_score(Y_test, y_pred_svc_test, average='macro'))\n",
        "print(f'SVC - F1 train:', f1_score(Y_train, y_pred_svc_train, average='macro'))"
      ],
      "metadata": {
        "id": "M7mVZOleVu0a"
      },
      "execution_count": null,
      "outputs": []
    },
    {
      "cell_type": "markdown",
      "source": [
        "Проверки качества модели SVC"
      ],
      "metadata": {
        "id": "Zbhbyl-YWJoU"
      }
    },
    {
      "cell_type": "code",
      "source": [
        "knn = KNeighborsClassifier(n_neighbors=4)\n",
        "knn.fit(X_train, Y_train)\n",
        "y_pred_knn_test = knn.predict(X_test)\n",
        "y_pred_knn_train = knn.predict(X_train)\n",
        "print(f'KNN - Accuracy test:', accuracy_score(Y_test, y_pred_knn_test))\n",
        "print(f'KNN - Accuracy train:', accuracy_score(Y_train, y_pred_knn_train))\n",
        "print(f'KNN - Precision test:', accuracy_score(Y_test, y_pred_knn_test))\n",
        "print(f'KNN - Precision train:', accuracy_score(Y_train, y_pred_knn_train))\n",
        "print(f'KNN - Recall test:', accuracy_score(Y_test, y_pred_knn_test))\n",
        "print(f'KNN - Recall train:', accuracy_score(Y_train, y_pred_knn_train))\n",
        "print(f'KNN - F1 test:', f1_score(Y_test, y_pred_knn_test, average='macro'))\n",
        "print(f'KNN - F1 train:', f1_score(Y_train, y_pred_knn_train, average='macro'))"
      ],
      "metadata": {
        "id": "grjnETn_Vu_4"
      },
      "execution_count": null,
      "outputs": []
    },
    {
      "cell_type": "markdown",
      "source": [
        "Проверки качества модели KNN"
      ],
      "metadata": {
        "id": "lBMdiGHMWKV_"
      }
    },
    {
      "cell_type": "code",
      "source": [
        "model_dtr = DecisionTreeClassifier()\n",
        "model_dtr.fit(X_train, Y_train)\n",
        "Y_train_pred_dtr = model_dtr.predict(X_train)\n",
        "Y_test_pred_dtr = model_dtr.predict(X_test)\n",
        "print(f'Дерево решений - Accuracy test:', accuracy_score(Y_test, Y_test_pred_dtr))\n",
        "print(f'Дерево решений - Accuracy train:', accuracy_score(Y_train, Y_train_pred_dtr))\n",
        "print(f'Дерево решений - Precision test:', accuracy_score(Y_test, Y_test_pred_dtr))\n",
        "print(f'Дерево решений - Precision train:', accuracy_score(Y_train, Y_train_pred_dtr))\n",
        "print(f'Дерево решений - Recall test:', accuracy_score(Y_test, Y_test_pred_dtr))\n",
        "print(f'Дерево решений - Recall train:', accuracy_score(Y_train, Y_train_pred_dtr))\n",
        "print(f'Дерево решений - F1 test:', f1_score(Y_test, Y_test_pred_dtr, average='macro'))\n",
        "print(f'Дерево решений - F1 train:', f1_score(Y_train, Y_train_pred_dtr, average='macro'))"
      ],
      "metadata": {
        "id": "8qCUF_ggVvJX"
      },
      "execution_count": null,
      "outputs": []
    },
    {
      "cell_type": "markdown",
      "source": [
        "Проверки качества модели дерево решений"
      ],
      "metadata": {
        "id": "aJn9vJp7WLHi"
      }
    },
    {
      "cell_type": "code",
      "source": [
        "model_rfr = RandomForestClassifier()\n",
        "model_rfr.fit(X_train, Y_train)\n",
        "Y_test_pred_rfr = model_rfr.predict(X_test)\n",
        "Y_train_pred_rfr = model_rfr.predict(X_train)\n",
        "print(f'Случайный лес - Accuracy test:', accuracy_score(Y_test, Y_test_pred_rfr))\n",
        "print(f'Случайный лес - Accuracy train:', accuracy_score(Y_train, Y_train_pred_rfr))\n",
        "print(f'Случайный лес - Precision test:', precision_score(Y_test, Y_test_pred_rfr))\n",
        "print(f'Случайный лес - Precision train:', precision_score(Y_train, Y_train_pred_rfr))\n",
        "print(f'Случайный лес - Recall test:', recall_score(Y_test, Y_test_pred_rfr))\n",
        "print(f'Случайный лес - Recall train:', recall_score(Y_train, Y_train_pred_rfr))\n",
        "print(f'Случайный лес - F1 test:', f1_score(Y_test, Y_test_pred_rfr))\n",
        "print(f'Случайный лес - F1 train:', f1_score(Y_train, Y_train_pred_rfr))"
      ],
      "metadata": {
        "id": "b9Vl1z9QVvSZ"
      },
      "execution_count": null,
      "outputs": []
    },
    {
      "cell_type": "markdown",
      "source": [
        "Проверки качества модели случайный лес"
      ],
      "metadata": {
        "id": "y_Eu3T04WL9_"
      }
    },
    {
      "cell_type": "code",
      "source": [
        "# 8\n",
        "sns.histplot(x='column', data=df, color='violet')\n",
        "plt.title('title')\n",
        "plt.show()"
      ],
      "metadata": {
        "id": "Ga-lbALkL5jR"
      },
      "execution_count": null,
      "outputs": []
    },
    {
      "cell_type": "markdown",
      "source": [
        "Гистограмма (Histplot)"
      ],
      "metadata": {
        "id": "QmPf7tNQXpg5"
      }
    },
    {
      "cell_type": "code",
      "source": [
        "sns.boxplot(x='column', y='column', data=df, palette='pastel')\n",
        "plt.title('title')\n",
        "plt.show()"
      ],
      "metadata": {
        "id": "FYGKVigvWvhj"
      },
      "execution_count": null,
      "outputs": []
    },
    {
      "cell_type": "markdown",
      "source": [
        "Boxplot"
      ],
      "metadata": {
        "id": "UERcT4SOXYtI"
      }
    },
    {
      "cell_type": "code",
      "source": [
        "sns.violinplot(x='column', y='column', data=df, palette='pastel')\n",
        "plt.title('title(Violinplot)')\n",
        "plt.show()"
      ],
      "metadata": {
        "id": "mhknQ5x4W6cE"
      },
      "execution_count": null,
      "outputs": []
    },
    {
      "cell_type": "markdown",
      "source": [
        "Boxplot с использованием (Violinplot)"
      ],
      "metadata": {
        "id": "2cCgpFWOXZWi"
      }
    },
    {
      "cell_type": "code",
      "source": [
        "sns.scatterplot(x='Drug_Experimentation', y='column', data=df, hue='column', palette='pastel')\n",
        "plt.title('title')\n",
        "plt.show()"
      ],
      "metadata": {
        "id": "pw4PqFa7Wvoz"
      },
      "execution_count": null,
      "outputs": []
    },
    {
      "cell_type": "markdown",
      "source": [
        "Диаграмма рассеяния (Scatter Plot)"
      ],
      "metadata": {
        "id": "WMFT4ShyXTZ3"
      }
    },
    {
      "cell_type": "code",
      "source": [
        "sns.lineplot(x='column', y='column', data=df, color='violet')\n",
        "plt.title('title')\n",
        "plt.show()"
      ],
      "metadata": {
        "id": "c5zejLAiWv2G"
      },
      "execution_count": null,
      "outputs": []
    },
    {
      "cell_type": "markdown",
      "source": [
        "Lineplot - отображает зависимость между двумя переменными, одна из которых непрерывная, а другая - категориальная"
      ],
      "metadata": {
        "id": "8iDd7rwZXL5G"
      }
    },
    {
      "cell_type": "code",
      "source": [
        "# 9\n",
        "df2 = df.sample(frac=1)\n",
        "df_1 = df.loc[df['columns']==1]\n",
        "df_2 = df.loc[df['column']==0][:492]\n",
        "normal_df = pd.concat([df_1, df_2])\n",
        "new_df = normal_df.sample(frac=1, random_state=42)\n",
        "print(new_df.shape)\n",
        "new_df.head()"
      ],
      "metadata": {
        "id": "15tar72wL5mv"
      },
      "execution_count": null,
      "outputs": []
    },
    {
      "cell_type": "markdown",
      "source": [
        "валидации модели на новых данных"
      ],
      "metadata": {
        "id": "9nu6DQeTcTJ7"
      }
    }
  ]
}
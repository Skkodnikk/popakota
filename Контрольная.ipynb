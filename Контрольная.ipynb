{
  "nbformat": 4,
  "nbformat_minor": 0,
  "metadata": {
    "colab": {
      "provenance": [],
      "authorship_tag": "ABX9TyOpr7+97+vTGJU3LUN5fePH",
      "include_colab_link": true
    },
    "kernelspec": {
      "name": "python3",
      "display_name": "Python 3"
    },
    "language_info": {
      "name": "python"
    }
  },
  "cells": [
    {
      "cell_type": "markdown",
      "metadata": {
        "id": "view-in-github",
        "colab_type": "text"
      },
      "source": [
        "<a href=\"https://colab.research.google.com/github/Skkodnikk/popakota/blob/main/%D0%9A%D0%BE%D0%BD%D1%82%D1%80%D0%BE%D0%BB%D1%8C%D0%BD%D0%B0%D1%8F.ipynb\" target=\"_parent\"><img src=\"https://colab.research.google.com/assets/colab-badge.svg\" alt=\"Open In Colab\"/></a>"
      ]
    },
    {
      "cell_type": "code",
      "execution_count": 4,
      "metadata": {
        "colab": {
          "base_uri": "https://localhost:8080/"
        },
        "id": "ca_9o1ORZ4lN",
        "outputId": "a0a48aa3-c9bd-4712-c9b9-56ce136d66a2"
      },
      "outputs": [
        {
          "output_type": "stream",
          "name": "stdout",
          "text": [
            "аправсаааннп\n",
            "*пр*вс\n"
          ]
        }
      ],
      "source": [
        "#1\n",
        "a = input()\n",
        "a = a[:int((len(a)+1)/2)]\n",
        "s = \"\"\n",
        "for i in a:\n",
        "    if i == \"а\":\n",
        "        s += \"*\"\n",
        "    else:\n",
        "        s += i\n",
        "print(s)"
      ]
    },
    {
      "cell_type": "code",
      "source": [
        "#2\n",
        "a = [\"виноград\", \"апельсин\", \"вино\", \"стол\", \"ванна\", \"волосы\", \"ветер\", \"дом\", \"вишня\", \"вода\", \"огонь\", \"трава\"]\n",
        "b = 0\n",
        "for c in a:\n",
        "    if c.startswith(\"в\"):\n",
        "        b += 1\n",
        "print(\"Количество слов:\", b)"
      ],
      "metadata": {
        "colab": {
          "base_uri": "https://localhost:8080/"
        },
        "id": "3INlVRKRaDzy",
        "outputId": "2075e740-6bbd-45ad-b0b4-dc63d1d9bb90"
      },
      "execution_count": 7,
      "outputs": [
        {
          "output_type": "stream",
          "name": "stdout",
          "text": [
            "Количество слов, начинающихся на букву 'в': 7\n"
          ]
        }
      ]
    },
    {
      "cell_type": "code",
      "source": [
        "#3\n",
        "N1 = int(input(\"Введите число N1: \"))\n",
        "N2 = int(input(\"Введите число N2: \"))\n",
        "S1 = input(\"Введите строку S1: \")\n",
        "S2 = input(\"Введите строку S2: \")\n",
        "a = S1[:N1] + S2[-N2:]\n",
        "print(\"Новая строка S2: \", a)"
      ],
      "metadata": {
        "colab": {
          "base_uri": "https://localhost:8080/"
        },
        "id": "1WVnTZmwaFBQ",
        "outputId": "5055bd77-a12a-4ade-d210-1144af1d8114"
      },
      "execution_count": 22,
      "outputs": [
        {
          "output_type": "stream",
          "name": "stdout",
          "text": [
            "Введите число N1: 3\n",
            "Введите число N2: 5\n",
            "Введите строку S1: apaoooooo\n",
            "Введите строку S2: fffffffffokoko\n",
            "Новая строка S2:  apaokoko\n"
          ]
        }
      ]
    },
    {
      "cell_type": "code",
      "source": [
        "#4\n",
        "a = int(input(\"Введите целое число K (от 1 до 365): \"))\n",
        "d = [\"1-понедельник\", \"2-вторник\", \"3-среда\", \"4-четверг\", \"5-пятница\", \"6-суббота\", \"7-воскресенье\"]\n",
        "n = (a + 1) % 7\n",
        "if n == 0:\n",
        "    n = 7\n",
        "d = d[n - 1]\n",
        "print(\"Номер дня недели для {}: {}\".format(a, d))"
      ],
      "metadata": {
        "colab": {
          "base_uri": "https://localhost:8080/"
        },
        "id": "f2tOkiDTaGOk",
        "outputId": "f6cc0cb4-d7c5-46d5-aae8-d6e87b0fc66c"
      },
      "execution_count": 16,
      "outputs": [
        {
          "output_type": "stream",
          "name": "stdout",
          "text": [
            "Введите целое число K (от 1 до 365): 5\n",
            "Номер дня недели для 5: 6-суббота\n"
          ]
        }
      ]
    },
    {
      "cell_type": "code",
      "source": [
        "#5.1\n",
        "X = int(input(\"X = \"))\n",
        "Y = int(input(\"Y = \"))\n",
        "Z = int(input(\"Z = \"))\n",
        "if X % 4 == 0 or Y % 4 == 0 or Z % 4 == 0:\n",
        "    print(\"хотя бы одно из чисел X, Y, Z кратно 4 - true\")\n",
        "else:\n",
        "    print(\"хотя бы одно из чисел X, Y, Z кратно 4 - false\")"
      ],
      "metadata": {
        "colab": {
          "base_uri": "https://localhost:8080/"
        },
        "id": "3hg9pwikaHUe",
        "outputId": "9a2ce95f-f005-43f8-cd4d-be2a689e927e"
      },
      "execution_count": 20,
      "outputs": [
        {
          "output_type": "stream",
          "name": "stdout",
          "text": [
            "X = 5\n",
            "Y = 3\n",
            "Z = 4\n",
            "X, Y, Z кратно 4 - true\n"
          ]
        }
      ]
    },
    {
      "cell_type": "code",
      "source": [
        "#5.2\n",
        "X = int(input(\"X = \"))\n",
        "Y = int(input(\"Y = \"))\n",
        "Z = int(input(\"Z = \"))\n",
        "if X <= 10 and Y <= 10 and Z <= 10:\n",
        "    print(\"каждое из чисел X, Y, Z не больше 10 - true\")\n",
        "else:\n",
        "    print(\"каждое из чисел X, Y, Z не больше 10 - false\")"
      ],
      "metadata": {
        "colab": {
          "base_uri": "https://localhost:8080/"
        },
        "id": "ZGxDMWSzaJPn",
        "outputId": "ace0c287-209c-4ed6-bbe6-e4fdcd412e1e"
      },
      "execution_count": 19,
      "outputs": [
        {
          "output_type": "stream",
          "name": "stdout",
          "text": [
            "X = 4\n",
            "Y = 6\n",
            "Z = 9\n",
            "X, Y, Z не больше 10 - true\n"
          ]
        }
      ]
    },
    {
      "cell_type": "code",
      "source": [
        "#5.3\n",
        "X = int(input(\"X = \"))\n",
        "Y = int(input(\"Y = \"))\n",
        "if (X % 2 == 0 and Y % 2 != 0) or (Y % 2 == 0 and X % 2 != 0):\n",
        "    print(\"только одно из чисел X и Y четное - true\")\n",
        "else:\n",
        "    print(\"только одно из чисел X и Y четное - false\")"
      ],
      "metadata": {
        "colab": {
          "base_uri": "https://localhost:8080/"
        },
        "id": "g8zLZ5TNaLBp",
        "outputId": "5131449c-6017-4825-f0c3-963a1ea9c86a"
      },
      "execution_count": 21,
      "outputs": [
        {
          "output_type": "stream",
          "name": "stdout",
          "text": [
            "X = 4\n",
            "Y = 5\n",
            "только одно из чисел X и Y четное - true\n"
          ]
        }
      ]
    },
    {
      "cell_type": "code",
      "source": [
        "#6\n",
        "s = \"праздники я люблю проводить со своим котом\"\n",
        "a = s.split()\n",
        "b = ' '.join([w for w in a if len(w) > 5])\n",
        "print(b)"
      ],
      "metadata": {
        "colab": {
          "base_uri": "https://localhost:8080/"
        },
        "id": "DcF5CcVIaN-d",
        "outputId": "5034f936-09fd-400e-9bc4-5f248bc3882d"
      },
      "execution_count": 27,
      "outputs": [
        {
          "output_type": "stream",
          "name": "stdout",
          "text": [
            "праздники проводить\n"
          ]
        }
      ]
    },
    {
      "cell_type": "code",
      "source": [
        "#7(Вариант №6)\n",
        "s = []\n",
        "q = 0\n",
        "n = int(input(\"Введите количество элементов в списке: \"))\n",
        "for i in range(n):\n",
        "  e = float(input(\"Введите элемент списка: \"))\n",
        "  s.append(e)\n",
        "m = max(s, key=abs)\n",
        "a = s.index(m)\n",
        "print(\"Номер максимального по модулю элемента списка:\", a)\n",
        "\n",
        "p = -1\n",
        "for i in range(len(s)):\n",
        "  if s[i] > 0:\n",
        "    p = i\n",
        "  break\n",
        "  if p == -1:\n",
        "    print(\"Нет положительных элементов\")\n",
        "  else:\n",
        "    q = sum(s[p + 1:])\n",
        "    print(\"Сумма элементов списка = \", q)\n",
        "print(\"Список элементов:\", s)"
      ],
      "metadata": {
        "colab": {
          "base_uri": "https://localhost:8080/"
        },
        "id": "Ay8uKSY5aP6S",
        "outputId": "db0c9a6b-b852-44a4-8d26-6ac3174a60f2"
      },
      "execution_count": 49,
      "outputs": [
        {
          "output_type": "stream",
          "name": "stdout",
          "text": [
            "Введите количество элементов в списке: 3\n",
            "Введите элемент списка: 2\n",
            "Введите элемент списка: 3\n",
            "Введите элемент списка: 1\n",
            "Номер максимального по модулю элемента списка: 1\n",
            "Список элементов: [2.0, 3.0, 1.0]\n"
          ]
        }
      ]
    },
    {
      "cell_type": "code",
      "source": [
        "#8\n",
        "s = 1000\n",
        "P = float(input(\"Годовая ставка (1 < P < 20): \"))\n",
        "a = P / 100\n",
        "S = s\n",
        "m = 0\n",
        "while S < 1000000:\n",
        "    S *= (1 + a)\n",
        "    m += 1\n",
        "print(\"Через\", m, \"месяцев размер вклада превысит 1000000 руб.\")\n",
        "print(\"Итоговый размер вклада = \", round(S, 2), \"руб.\")"
      ],
      "metadata": {
        "colab": {
          "base_uri": "https://localhost:8080/"
        },
        "id": "-GRriMkSaQs7",
        "outputId": "2676d948-b553-4185-8d83-65c150a444c8"
      },
      "execution_count": 35,
      "outputs": [
        {
          "output_type": "stream",
          "name": "stdout",
          "text": [
            "Годовая ставка (1 < P < 20): 16\n",
            "Через 47 месяцев размер вклада превысит 1000000 руб.\n",
            "Итоговый размер вклада =  1070349.21 руб.\n"
          ]
        }
      ]
    },
    {
      "cell_type": "code",
      "source": [
        "list_numbers = []\n",
        "\n",
        "n = int(input(\"Введите количество элементов в списке: \"))\n",
        "for i in range(n):\n",
        "  element = float(input(\"Введите элемент списка: \"))\n",
        "list_numbers.append(element)\n",
        "\n",
        "max_element = max(list_numbers, key=abs)\n",
        "max_index = list_numbers.index(max_element)\n",
        "print(\"Номер максимального по модулю элемента списка:\", max_index)\n",
        "\n",
        "positive_index = -1\n",
        "for i in range(len(list_numbers)):\n",
        "  if list_numbers[i] > 0:\n",
        "    positive_index = i\n",
        "  break\n",
        "\n",
        "  if positive_index == -1:\n",
        "    print(\"В списке нет положительных элементов\")\n",
        "  else:\n",
        "    sum_after_positive = sum(list_numbers[positive_index+1:])\n",
        "  print(\"Сумма элементов списка, расположенных после первого положительного элемента:\", sum_after_positive)\n",
        "\n",
        "print(\"Список элементов:\", list_numbers)"
      ],
      "metadata": {
        "colab": {
          "base_uri": "https://localhost:8080/"
        },
        "id": "u7tnrLNKm1Cg",
        "outputId": "28145523-a12d-48a3-a6be-fa0ac22c40f3"
      },
      "execution_count": 42,
      "outputs": [
        {
          "output_type": "stream",
          "name": "stdout",
          "text": [
            "Введите количество элементов в списке: 4\n",
            "Введите элемент списка: -1\n",
            "Введите элемент списка: 5\n",
            "Введите элемент списка: 6\n",
            "Введите элемент списка: 3\n",
            "Номер максимального по модулю элемента списка: 0\n",
            "Список элементов: [3.0]\n"
          ]
        }
      ]
    }
  ]
}
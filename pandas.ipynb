{
  "nbformat": 4,
  "nbformat_minor": 0,
  "metadata": {
    "colab": {
      "provenance": [],
      "authorship_tag": "ABX9TyOdhEFC5fOuPRUiN219yh4k",
      "include_colab_link": true
    },
    "kernelspec": {
      "name": "python3",
      "display_name": "Python 3"
    },
    "language_info": {
      "name": "python"
    }
  },
  "cells": [
    {
      "cell_type": "markdown",
      "metadata": {
        "id": "view-in-github",
        "colab_type": "text"
      },
      "source": [
        "<a href=\"https://colab.research.google.com/github/Skkodnikk/popakota/blob/main/pandas.ipynb\" target=\"_parent\"><img src=\"https://colab.research.google.com/assets/colab-badge.svg\" alt=\"Open In Colab\"/></a>"
      ]
    },
    {
      "cell_type": "code",
      "execution_count": 4,
      "metadata": {
        "colab": {
          "base_uri": "https://localhost:8080/"
        },
        "id": "izcPNNaGu7_C",
        "outputId": "972f8bc0-0c2c-4ed7-f562-f7c8b3aae1ba"
      },
      "outputs": [
        {
          "output_type": "stream",
          "name": "stdout",
          "text": [
            "0    1\n",
            "1    2\n",
            "2    3\n",
            "3    4\n",
            "4    5\n",
            "dtype: int64\n",
            "0     apple\n",
            "1    banana\n",
            "2    cherry\n",
            "3    orange\n",
            "4     berry\n",
            "dtype: object\n",
            "0    1.1\n",
            "1    2.2\n",
            "2    3.3\n",
            "3    4.4\n",
            "4    5.5\n",
            "dtype: float64\n",
            "0         1\n",
            "1     apple\n",
            "2       1.1\n",
            "3      True\n",
            "4    cherry\n",
            "dtype: object\n"
          ]
        }
      ],
      "source": [
        "#1\n",
        "import pandas as pd\n",
        "s_int = pd.Series([1, 2, 3, 4, 5])\n",
        "print(s_int)\n",
        "\n",
        "s_str = pd.Series([\"apple\", \"banana\", \"cherry\", \"orange\", \"berry\"])\n",
        "print(s_str)\n",
        "\n",
        "s_float = pd.Series([1.1, 2.2, 3.3, 4.4, 5.5])\n",
        "print(s_float)\n",
        "\n",
        "s_mixed = pd.Series([1, \"apple\", 1.1, True, \"cherry\"])\n",
        "print(s_mixed)"
      ]
    },
    {
      "cell_type": "code",
      "source": [
        "#2\n",
        "s_int.index = range(3, 8)\n",
        "print(s_int)\n",
        "\n",
        "s_str.index = [\"a\", \"b\", \"c\", \"d\", \"e\"]\n",
        "print(s_str)"
      ],
      "metadata": {
        "colab": {
          "base_uri": "https://localhost:8080/"
        },
        "id": "7oAbrgfDu-wu",
        "outputId": "95bc4541-465a-49d5-da03-ea4122c01f49"
      },
      "execution_count": 5,
      "outputs": [
        {
          "output_type": "stream",
          "name": "stdout",
          "text": [
            "3    1\n",
            "4    2\n",
            "5    3\n",
            "6    4\n",
            "7    5\n",
            "dtype: int64\n",
            "a     apple\n",
            "b    banana\n",
            "c    cherry\n",
            "d    orange\n",
            "e     berry\n",
            "dtype: object\n"
          ]
        }
      ]
    },
    {
      "cell_type": "code",
      "source": [
        "#3\n",
        "p = {\"a\": 1, \"b\": 2, \"c\": 3, \"d\": 4}\n",
        "\n",
        "s_dict = pd.Series(p)\n",
        "print(s_dict)"
      ],
      "metadata": {
        "colab": {
          "base_uri": "https://localhost:8080/"
        },
        "id": "h7MZvK5pu_5V",
        "outputId": "51003060-71db-4fca-caf4-bb0458a19c17"
      },
      "execution_count": 24,
      "outputs": [
        {
          "output_type": "stream",
          "name": "stdout",
          "text": [
            "a    1\n",
            "b    2\n",
            "c    3\n",
            "d    4\n",
            "dtype: int64\n"
          ]
        }
      ]
    },
    {
      "cell_type": "code",
      "source": [
        "#4\n",
        "import numpy as np\n",
        "s_arange = pd.Series(np.arange(3, 9))\n",
        "print(s_arange)\n",
        "\n",
        "s_random = pd.Series(np.random.randint(1, 20, 5))\n",
        "print(s_random)"
      ],
      "metadata": {
        "colab": {
          "base_uri": "https://localhost:8080/"
        },
        "id": "fDSn4XQFvAp_",
        "outputId": "b0f9887d-d4c9-407b-ead9-de6ea38e2072"
      },
      "execution_count": 17,
      "outputs": [
        {
          "output_type": "stream",
          "name": "stdout",
          "text": [
            "0    3\n",
            "1    4\n",
            "2    5\n",
            "3    6\n",
            "4    7\n",
            "5    8\n",
            "dtype: int64\n",
            "0    13\n",
            "1     8\n",
            "2    14\n",
            "3    10\n",
            "4    15\n",
            "dtype: int64\n"
          ]
        }
      ]
    },
    {
      "cell_type": "code",
      "source": [
        "#5\n",
        "d_list = [[1, 2, 3], [4, 5, 6], [7, 8, 9]]\n",
        "df_list = pd.DataFrame(d_list, columns=['a', 'b', 'c'])\n",
        "print(df_list)\n",
        "\n",
        "d_dict = {'a': [1, 2, 3], 'b': [4, 5, 6], 'c': [7, 8, 9]}\n",
        "df_dict = pd.DataFrame(d_dict)\n",
        "print(df_dict)\n",
        "\n",
        "s_a = pd.Series([1, 2, 3], name='a')\n",
        "s_b = pd.Series([4, 5, 6], name='b')\n",
        "df_series = pd.concat([s_a, s_b], axis=1)\n",
        "print(df_series)\n",
        "\n",
        "dft_series = pd.DataFrame({'a': s_arange, 'b': s_random})\n",
        "print(dft_series)"
      ],
      "metadata": {
        "colab": {
          "base_uri": "https://localhost:8080/"
        },
        "id": "A1ynhYQoydrr",
        "outputId": "d41fea3e-110d-4f6f-8e10-388ac027d841"
      },
      "execution_count": 20,
      "outputs": [
        {
          "output_type": "stream",
          "name": "stdout",
          "text": [
            "   a  b  c\n",
            "0  1  2  3\n",
            "1  4  5  6\n",
            "2  7  8  9\n",
            "   a  b  c\n",
            "0  1  4  7\n",
            "1  2  5  8\n",
            "2  3  6  9\n",
            "   a  b\n",
            "0  1  4\n",
            "1  2  5\n",
            "2  3  6\n",
            "   a     b\n",
            "0  3  13.0\n",
            "1  4   8.0\n",
            "2  5  14.0\n",
            "3  6  10.0\n",
            "4  7  15.0\n",
            "5  8   NaN\n"
          ]
        }
      ]
    },
    {
      "cell_type": "code",
      "source": [
        "#6\n",
        "df_list\n",
        "n_columns = ['OwO', 'oAo', 'XD']\n",
        "df_list.columns = n_columns\n",
        "print(df_list)"
      ],
      "metadata": {
        "colab": {
          "base_uri": "https://localhost:8080/"
        },
        "id": "AZ4yw45Byd6Z",
        "outputId": "91d81a78-f327-4627-982b-7c248eb1ce27"
      },
      "execution_count": 23,
      "outputs": [
        {
          "output_type": "stream",
          "name": "stdout",
          "text": [
            "   OwO  oAo  XD\n",
            "0    1    2   3\n",
            "1    4    5   6\n",
            "2    7    8   9\n"
          ]
        }
      ]
    },
    {
      "cell_type": "code",
      "source": [
        "#7\n",
        "print(len(s_str))\n",
        "print(s_str.size)\n",
        "print(s_str.shape)\n",
        "\n",
        "print(len(df_list))\n",
        "print(df_list.size)\n",
        "print(df_list.shape)"
      ],
      "metadata": {
        "colab": {
          "base_uri": "https://localhost:8080/"
        },
        "id": "Rtb_KnTUyeJn",
        "outputId": "0efb1f86-9cf5-49ee-d610-fbff07e8aa92"
      },
      "execution_count": 29,
      "outputs": [
        {
          "output_type": "stream",
          "name": "stdout",
          "text": [
            "5\n",
            "5\n",
            "(5,)\n",
            "3\n",
            "9\n",
            "(3, 3)\n"
          ]
        }
      ]
    },
    {
      "cell_type": "code",
      "source": [
        "#8\n",
        "df = pd.DataFrame({'Возраст': [18, 30, 17, 20, 25, 24, 21, 21, 55, 40],\n",
        "                   'Рейтинг': [5, 5, 3, 4, 3, 4, 2, 4, 3, 3],\n",
        "                   'Курс': [2, 2, 2, 2, 3, 3, 1, 1, 4, 4]},\n",
        "                  index = ['Nana', 'Baba', 'Dada', 'Tata', 'Kaka', 'Lala', 'Rara', 'Vava', 'Jaja', 'Fafa'])\n",
        "\n",
        "df.hist()\n",
        "\n",
        "df.plot(kind = 'bar')"
      ],
      "metadata": {
        "colab": {
          "base_uri": "https://localhost:8080/",
          "height": 905
        },
        "id": "Vwv9hJVYyeWo",
        "outputId": "fa073ce7-2ae6-4d02-ee17-617c26119994"
      },
      "execution_count": 43,
      "outputs": [
        {
          "output_type": "execute_result",
          "data": {
            "text/plain": [
              "<Axes: >"
            ]
          },
          "metadata": {},
          "execution_count": 43
        },
        {
          "output_type": "display_data",
          "data": {
            "text/plain": [
              "<Figure size 640x480 with 4 Axes>"
            ],
            "image/png": "[encoded data removed]"
          },
          "metadata": {}
        },
        {
          "output_type": "display_data",
          "data": {
            "text/plain": [
              "<Figure size 640x480 with 1 Axes>"
            ],
            "image/png": "[encoded data removed]"
          },
          "metadata": {}
        }
      ]
    },
    {
      "cell_type": "code",
      "source": [
        "df.boxplot()"
      ],
      "metadata": {
        "colab": {
          "base_uri": "https://localhost:8080/",
          "height": 447
        },
        "id": "DJWEG4Wm-Aq2",
        "outputId": "89166a9c-6bff-4842-f8f7-aa3a0043ca66"
      },
      "execution_count": 37,
      "outputs": [
        {
          "output_type": "execute_result",
          "data": {
            "text/plain": [
              "<Axes: >"
            ]
          },
          "metadata": {},
          "execution_count": 37
        },
        {
          "output_type": "display_data",
          "data": {
            "text/plain": [
              "<Figure size 640x480 with 1 Axes>"
            ],
            "image/png": "[encoded data removed]"
          },
          "metadata": {}
        }
      ]
    },
    {
      "cell_type": "code",
      "source": [
        "df.boxplot(['Возраст'])"
      ],
      "metadata": {
        "colab": {
          "base_uri": "https://localhost:8080/",
          "height": 447
        },
        "id": "557uOvgU-FUK",
        "outputId": "429fdf3e-40d5-4b42-d2d7-eaa9ebc04337"
      },
      "execution_count": 44,
      "outputs": [
        {
          "output_type": "execute_result",
          "data": {
            "text/plain": [
              "<Axes: >"
            ]
          },
          "metadata": {},
          "execution_count": 44
        },
        {
          "output_type": "display_data",
          "data": {
            "text/plain": [
              "<Figure size 640x480 with 1 Axes>"
            ],
            "image/png": "[encoded data removed]"
          },
          "metadata": {}
        }
      ]
    }
  ]
}
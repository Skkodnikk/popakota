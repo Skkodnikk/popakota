{
  "nbformat": 4,
  "nbformat_minor": 0,
  "metadata": {
    "colab": {
      "provenance": [],
      "authorship_tag": "ABX9TyNARiJw7CFSSs/NKexysD6Y",
      "include_colab_link": true
    },
    "kernelspec": {
      "name": "python3",
      "display_name": "Python 3"
    },
    "language_info": {
      "name": "python"
    }
  },
  "cells": [
    {
      "cell_type": "markdown",
      "metadata": {
        "id": "view-in-github",
        "colab_type": "text"
      },
      "source": [
        "<a href=\"https://colab.research.google.com/github/Skkodnikk/popakota/blob/main/%D0%BF%D1%80%D0%B0%D0%BA%D1%82%D0%B8%D1%87%D0%B5%D1%81%D0%BA%D0%B0%D1%8F_2.ipynb\" target=\"_parent\"><img src=\"https://colab.research.google.com/assets/colab-badge.svg\" alt=\"Open In Colab\"/></a>"
      ]
    },
    {
      "cell_type": "code",
      "execution_count": 5,
      "metadata": {
        "colab": {
          "base_uri": "https://localhost:8080/"
        },
        "id": "ciQxr-mRQjww",
        "outputId": "68c9b235-a8a0-4a04-acd5-c26d37e3d6ff"
      },
      "outputs": [
        {
          "output_type": "stream",
          "name": "stdout",
          "text": [
            "r\n",
            "a\n",
            "9\n",
            "Abrac\n",
            "Abracadab\n",
            "Arcdba\n",
            "baaar\n",
            "arbadacarbA\n",
            "abdcrA\n",
            "11\n"
          ]
        }
      ],
      "source": [
        "a = \"Abracadabra\"\n",
        "print(a[2])\n",
        "print(a[3])\n",
        "print(len(a)-2)\n",
        "print(a[:5])\n",
        "print(a[:-2])\n",
        "print(a[::2])\n",
        "print(a[1::2])\n",
        "print(a[::-1])\n",
        "print(a[::-2])\n",
        "print(len(a))"
      ]
    },
    {
      "cell_type": "code",
      "source": [
        "a = input()\n",
        "x = 'a'\n",
        "print(x in a)\n",
        "print(a)\n",
        "a.split(input())"
      ],
      "metadata": {
        "colab": {
          "base_uri": "https://localhost:8080/"
        },
        "id": "ygn7rXwOQprY",
        "outputId": "b104685d-1c70-47ea-a478-59fee57f090b"
      },
      "execution_count": 19,
      "outputs": [
        {
          "name": "stdout",
          "output_type": "stream",
          "text": [
            "anapnnananananp\n",
            "True\n",
            "anapnnananananp\n",
            "p\n"
          ]
        },
        {
          "output_type": "execute_result",
          "data": {
            "text/plain": [
              "['ana', 'nnanananan', '']"
            ]
          },
          "metadata": {},
          "execution_count": 19
        }
      ]
    },
    {
      "cell_type": "code",
      "source": [
        "a = input(\"Введите строку: \")\n",
        "x = a.replace('k','j').replace('v','z')\n",
        "print(x)"
      ],
      "metadata": {
        "colab": {
          "base_uri": "https://localhost:8080/"
        },
        "id": "3MO5VPWCZ5Dy",
        "outputId": "b0c6550a-e5f6-4596-84c2-76ab84a157cf"
      },
      "execution_count": 10,
      "outputs": [
        {
          "output_type": "stream",
          "name": "stdout",
          "text": [
            "Введите строку: kkkkvvvv\n",
            "jjjjzzzz\n"
          ]
        }
      ]
    },
    {
      "cell_type": "code",
      "source": [
        "a = input(\"Введите строку: \")\n",
        "if a.isdigit():\n",
        "    print(\"только цифры.\")\n",
        "else:\n",
        "    print(\"есть другие символы.\")\n",
        "x = a.upper()\n",
        "print(f\"Старая строка: {a}\")\n",
        "print(f\"Новая строка: {x}\")\n",
        "n = a.replace(a[0], \"AAA\", 1)\n",
        "print(f\"Старая строка: {a}\")\n",
        "print(f\"Новая строка: {n}\")"
      ],
      "metadata": {
        "colab": {
          "base_uri": "https://localhost:8080/"
        },
        "id": "MY-Gtbb9bEVH",
        "outputId": "ff2ae34c-b80c-475c-fa02-388fdb1aaac8"
      },
      "execution_count": 12,
      "outputs": [
        {
          "output_type": "stream",
          "name": "stdout",
          "text": [
            "Введите строку: hh4h4h4\n",
            "есть другие символы.\n",
            "Старая строка: hh4h4h4\n",
            "Новая строка: HH4H4H4\n",
            "Старая строка: hh4h4h4\n",
            "Новая строка: AAAh4h4h4\n"
          ]
        }
      ]
    },
    {
      "cell_type": "code",
      "source": [
        "a = float(input(\"цена: \"))\n",
        "for b in range(1, 11):\n",
        "  c = b * a\n",
        "print(c)"
      ],
      "metadata": {
        "colab": {
          "base_uri": "https://localhost:8080/"
        },
        "id": "7FWQCaiycpIZ",
        "outputId": "edfa2b2b-203b-4816-a0f1-343fe1a45a2e"
      },
      "execution_count": 17,
      "outputs": [
        {
          "output_type": "stream",
          "name": "stdout",
          "text": [
            "цена: 54\n",
            "540.0\n"
          ]
        }
      ]
    },
    {
      "cell_type": "code",
      "source": [
        "a = [6, 66, -76, 34, -1]\n",
        "c = 0\n",
        "for i in a:\n",
        "  while i > 0:\n",
        "    c += 1\n",
        "break\n",
        "print(\"Количество положительных чисел:\", c)"
      ],
      "metadata": {
        "id": "6JPqTto_e0iO"
      },
      "execution_count": null,
      "outputs": []
    },
    {
      "cell_type": "code",
      "source": [
        "s = input()\n",
        "c = 0\n",
        "for a in s:\n",
        "    if a == 'u':\n",
        "        c += 1\n",
        "print(f\"Количество: {c}\")"
      ],
      "metadata": {
        "colab": {
          "base_uri": "https://localhost:8080/"
        },
        "id": "KCBEeuHTjK5M",
        "outputId": "650ba017-e529-46f9-acd9-096a00af59cc"
      },
      "execution_count": 25,
      "outputs": [
        {
          "output_type": "stream",
          "name": "stdout",
          "text": [
            "Введите строку: uuuuuuuunnnn\n",
            "Количество повторений буквы 'u': 8\n"
          ]
        }
      ]
    },
    {
      "cell_type": "code",
      "source": [
        "s = 'иванов иван'\n",
        "p = s.title()\n",
        "print(p)"
      ],
      "metadata": {
        "id": "X9pvSzp2jrcr"
      },
      "execution_count": null,
      "outputs": []
    }
  ]
}
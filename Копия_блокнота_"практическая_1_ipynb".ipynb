{
  "nbformat": 4,
  "nbformat_minor": 0,
  "metadata": {
    "colab": {
      "provenance": [],
      "authorship_tag": "ABX9TyMt2acw6bzqGsC74wOwQD5S",
      "include_colab_link": true
    },
    "kernelspec": {
      "name": "python3",
      "display_name": "Python 3"
    },
    "language_info": {
      "name": "python"
    }
  },
  "cells": [
    {
      "cell_type": "markdown",
      "metadata": {
        "id": "view-in-github",
        "colab_type": "text"
      },
      "source": [
        "<a href=\"https://colab.research.google.com/github/Skkodnikk/popakota/blob/main/%D0%9A%D0%BE%D0%BF%D0%B8%D1%8F_%D0%B1%D0%BB%D0%BE%D0%BA%D0%BD%D0%BE%D1%82%D0%B0_%22%D0%BF%D1%80%D0%B0%D0%BA%D1%82%D0%B8%D1%87%D0%B5%D1%81%D0%BA%D0%B0%D1%8F_1_ipynb%22.ipynb\" target=\"_parent\"><img src=\"https://colab.research.google.com/assets/colab-badge.svg\" alt=\"Open In Colab\"/></a>"
      ]
    },
    {
      "cell_type": "code",
      "execution_count": null,
      "metadata": {
        "colab": {
          "base_uri": "https://localhost:8080/"
        },
        "id": "XnddrSlfPAhQ",
        "outputId": "012b53e7-ed11-4224-c196-d9d3077ceba7"
      },
      "outputs": [
        {
          "output_type": "stream",
          "name": "stdout",
          "text": [
            "<class 'NoneType'>\n",
            "<class 'bool'>\n",
            "<class 'bool'>\n",
            "<class 'int'>\n",
            "<class 'float'>\n",
            "<class 'complex'>\n",
            "<class 'list'>\n",
            "<class 'tuple'>\n",
            "<class 'range'>\n",
            "<class 'str'>\n",
            "<class 'bytes'>\n",
            "<class 'bytearray'>\n",
            "<class 'memoryview'>\n",
            "<class 'set'>\n",
            "<class 'frozenset'>\n",
            "<class 'dict'>\n"
          ]
        }
      ],
      "source": [
        "print(type(None))\n",
        "print(type(True))\n",
        "print(type(False))\n",
        "print(type(1))\n",
        "print(type(5.3))\n",
        "print(type(5 + 4j))\n",
        "print(type([1, 5.3, False, 4]))\n",
        "print(type((1, True, 3, 5+4j)))\n",
        "print(type(range(5)))\n",
        "print(type('Hello'))\n",
        "print(type(b'a'))\n",
        "print(type(bytearray([1,2,3])))\n",
        "print(type(memoryview(bytearray('XYZ', 'utf-8'))))\n",
        "print(type({'a', 3, True}))\n",
        "print(type(frozenset({1, 2, 3})))\n",
        "print(type({'a' : 32}))"
      ]
    },
    {
      "cell_type": "code",
      "source": [
        "a = 667 - 13\n",
        "b = a + 101\n",
        "c = a + b\n",
        "print(a, b, c)"
      ],
      "metadata": {
        "colab": {
          "base_uri": "https://localhost:8080/"
        },
        "id": "KgX2bA9tQl5U",
        "outputId": "36d87ea0-8ff6-4326-a7b3-70e5e79e2bcf"
      },
      "execution_count": null,
      "outputs": [
        {
          "output_type": "stream",
          "name": "stdout",
          "text": [
            "654 755 1409\n"
          ]
        }
      ]
    },
    {
      "cell_type": "code",
      "source": [
        "a = 10.5 * 2\n",
        "print(a)\n",
        "b = a + a / 3\n",
        "print(b)\n",
        "c = (a + b) * 2\n",
        "print(c)"
      ],
      "metadata": {
        "colab": {
          "base_uri": "https://localhost:8080/"
        },
        "id": "WmPngZaISAfF",
        "outputId": "77fa7504-4b15-4535-ba3e-f590873ca568"
      },
      "execution_count": null,
      "outputs": [
        {
          "output_type": "stream",
          "name": "stdout",
          "text": [
            "21.0\n",
            "28.0\n",
            "98.0\n"
          ]
        }
      ]
    },
    {
      "cell_type": "code",
      "source": [
        "string = input()\n",
        "print(string)"
      ],
      "metadata": {
        "colab": {
          "base_uri": "https://localhost:8080/"
        },
        "id": "TonwveHYSq4k",
        "outputId": "e4f7c3cd-7c90-4dec-e14e-afe0ac6051c0"
      },
      "execution_count": null,
      "outputs": [
        {
          "output_type": "stream",
          "name": "stdout",
          "text": [
            "54\n",
            "54\n"
          ]
        }
      ]
    },
    {
      "cell_type": "code",
      "source": [
        "a = True\n",
        "b = False\n",
        "print(a and b)\n",
        "print((a and b) or b)\n",
        "print((a and b) or not (a and b))\n",
        "print(a and b or not (a or b) or b)\n",
        "print(b and b or not a and (a or b or a) or not (a or b))"
      ],
      "metadata": {
        "colab": {
          "base_uri": "https://localhost:8080/"
        },
        "id": "fQawFPidTjSy",
        "outputId": "3464e218-aa10-4adf-b1d1-f7eddbe393d0"
      },
      "execution_count": null,
      "outputs": [
        {
          "output_type": "stream",
          "name": "stdout",
          "text": [
            "False\n",
            "False\n",
            "True\n",
            "False\n",
            "False\n"
          ]
        }
      ]
    },
    {
      "cell_type": "markdown",
      "source": [
        "1. True и False = False\n",
        "2.False или False = False\n",
        "3.False или не False= True\n",
        "4.False или не False или False = False\n",
        "5.False или не True и True или не True = False\n",
        "\n"
      ],
      "metadata": {
        "id": "OFvd5hnbVCZv"
      }
    },
    {
      "cell_type": "code",
      "source": [
        "a = int(input())\n",
        "b = int(input())\n",
        "if a < b:\n",
        "  print(a)\n",
        "else:\n",
        "  print(b)"
      ],
      "metadata": {
        "colab": {
          "base_uri": "https://localhost:8080/"
        },
        "id": "RHw3pH-FW1xo",
        "outputId": "aaf4a498-a2d4-436a-d74e-bcfe6ff017d5"
      },
      "execution_count": null,
      "outputs": [
        {
          "output_type": "stream",
          "name": "stdout",
          "text": [
            "3\n",
            "1\n",
            "1\n"
          ]
        }
      ]
    },
    {
      "cell_type": "code",
      "source": [
        "a = int(input())\n",
        "b = int(input())\n",
        "c = int(input())\n",
        "if a > b > c:\n",
        "  print(c)\n",
        "elif a < b < c:\n",
        "  print(a)\n",
        "else:\n",
        "  print(b)"
      ],
      "metadata": {
        "colab": {
          "base_uri": "https://localhost:8080/"
        },
        "id": "NOXYW3hqXw9u",
        "outputId": "d93826f5-6bd4-47a7-8f26-520cd780f28c"
      },
      "execution_count": null,
      "outputs": [
        {
          "output_type": "stream",
          "name": "stdout",
          "text": [
            "45\n",
            "36\n",
            "84\n",
            "36\n"
          ]
        }
      ]
    },
    {
      "cell_type": "code",
      "source": [
        "a = int(input())\n",
        "b = int(input())\n",
        "if a > b:\n",
        "  print(a - b)\n",
        "elif a < b:\n",
        "  print(a + b)\n",
        "elif a == b:\n",
        " print(a)"
      ],
      "metadata": {
        "colab": {
          "base_uri": "https://localhost:8080/"
        },
        "id": "MzHFnhPHYoZW",
        "outputId": "1f57742c-989a-4f0c-de1e-f01d39108607"
      },
      "execution_count": null,
      "outputs": [
        {
          "output_type": "stream",
          "name": "stdout",
          "text": [
            "4\n",
            "1\n",
            "3\n"
          ]
        }
      ]
    },
    {
      "cell_type": "code",
      "source": [
        "age = int(input(\"Сколько вам лет?\"))\n",
        "if 0 <= age < 7:\n",
        " print(\"Вам в детский сад\")\n",
        "elif 7 <= age < 18:\n",
        " print(\"Вам в школу\")\n",
        "elif 18 <= age < 25:\n",
        " print(\"Вам в профессиональное учебное заведение\")\n",
        "elif 25 <= age < 60:\n",
        " print(\"Вам на работу\")\n",
        "elif 60 <= age < 120:\n",
        " print(\"Вам предстовляется выбор\")\n",
        "elif age < 0 or age > 120:\n",
        " print(\"Ошибка! Эта программа для людей!\")"
      ],
      "metadata": {
        "colab": {
          "base_uri": "https://localhost:8080/"
        },
        "id": "mpLO2SV4Zf0N",
        "outputId": "a972ecad-61eb-487f-f2d9-4ff626e7be6f"
      },
      "execution_count": null,
      "outputs": [
        {
          "output_type": "stream",
          "name": "stdout",
          "text": [
            "Сколько вам лет?130\n",
            "Ошибка! Эта программа для людей!\n"
          ]
        }
      ]
    },
    {
      "cell_type": "code",
      "source": [
        "a = int(input())\n",
        "if 500 < a <= 1000:\n",
        "  a -= a * 0.03\n",
        "elif a > 1000:\n",
        "  a -= a * 0.05\n",
        "  print(a)\n",
        "else:\n",
        "  print(a)"
      ],
      "metadata": {
        "colab": {
          "base_uri": "https://localhost:8080/"
        },
        "id": "ct0AZjjWb1GC",
        "outputId": "26050797-af58-4c92-e622-d6a20bdb7074"
      },
      "execution_count": null,
      "outputs": [
        {
          "output_type": "stream",
          "name": "stdout",
          "text": [
            "1300\n",
            "1235.0\n"
          ]
        }
      ]
    },
    {
      "cell_type": "code",
      "source": [
        "a = input"
      ],
      "metadata": {
        "id": "zdeKo3mce5GL"
      },
      "execution_count": null,
      "outputs": []
    }
  ]
}
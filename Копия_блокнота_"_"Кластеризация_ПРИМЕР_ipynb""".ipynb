{
  "nbformat": 4,
  "nbformat_minor": 0,
  "metadata": {
    "colab": {
      "provenance": [],
      "include_colab_link": true
    },
    "kernelspec": {
      "name": "python3",
      "display_name": "Python 3"
    },
    "language_info": {
      "name": "python"
    }
  },
  "cells": [
    {
      "cell_type": "markdown",
      "metadata": {
        "id": "view-in-github",
        "colab_type": "text"
      },
      "source": [
        "<a href=\"https://colab.research.google.com/github/Skkodnikk/popakota/blob/main/%D0%9A%D0%BE%D0%BF%D0%B8%D1%8F_%D0%B1%D0%BB%D0%BE%D0%BA%D0%BD%D0%BE%D1%82%D0%B0_%22_%22%D0%9A%D0%BB%D0%B0%D1%81%D1%82%D0%B5%D1%80%D0%B8%D0%B7%D0%B0%D1%86%D0%B8%D1%8F_%D0%9F%D0%A0%D0%98%D0%9C%D0%95%D0%A0_ipynb%22%22%22.ipynb\" target=\"_parent\"><img src=\"https://colab.research.google.com/assets/colab-badge.svg\" alt=\"Open In Colab\"/></a>"
      ]
    },
    {
      "cell_type": "code",
      "execution_count": null,
      "metadata": {
        "id": "HvgMZzwfKpH2"
      },
      "outputs": [],
      "source": [
        "import numpy as np\n",
        "import pandas as pd\n",
        "import matplotlib.pyplot as plt\n",
        "from sklearn.cluster import KMeans\n",
        "from sklearn.manifold import TSNE\n",
        "from sklearn.decomposition import PCA, TruncatedSVD\n",
        "\n"
      ]
    },
    {
      "cell_type": "code",
      "source": [
        "df = pd.read_excel('  ')\n"
      ],
      "metadata": {
        "id": "LnxdP4eJcPld"
      },
      "execution_count": null,
      "outputs": []
    },
    {
      "cell_type": "code",
      "source": [
        "df.head()"
      ],
      "metadata": {
        "id": "QHh_Rjqucx99"
      },
      "execution_count": null,
      "outputs": []
    },
    {
      "cell_type": "markdown",
      "source": [],
      "metadata": {
        "id": "VNjJTWVJzCpx"
      }
    },
    {
      "cell_type": "code",
      "source": [
        "df.describe()"
      ],
      "metadata": {
        "id": "MdCbRf4PNT5i"
      },
      "execution_count": null,
      "outputs": []
    },
    {
      "cell_type": "code",
      "source": [
        "df.info()"
      ],
      "metadata": {
        "id": "_jkbXFlxileE"
      },
      "execution_count": null,
      "outputs": []
    },
    {
      "cell_type": "code",
      "source": [
        "df = df.drop (['ваш вариант'],axis=1)\n"
      ],
      "metadata": {
        "id": "YIMDBgk2Mhuy"
      },
      "execution_count": null,
      "outputs": []
    },
    {
      "cell_type": "code",
      "source": [
        "df.head()"
      ],
      "metadata": {
        "id": "ECirXmGyOEO1"
      },
      "execution_count": null,
      "outputs": []
    },
    {
      "cell_type": "code",
      "source": [
        "df.isnull().sum().max()"
      ],
      "metadata": {
        "id": "WCKUnIWfBU6n"
      },
      "execution_count": null,
      "outputs": []
    },
    {
      "cell_type": "code",
      "source": [
        "# ПРИ НЕОБХОДИМОСТИ ДОБАВЬТЕ ДЕЙСТВИЯ И ПОДУМАЙТЕ ЧТО ДАЛЬШЕ ПОЙДЕТ В МОДЕЛЬ\n"
      ],
      "metadata": {
        "id": "W2S9E77PcL9F"
      },
      "execution_count": null,
      "outputs": []
    },
    {
      "cell_type": "code",
      "source": [
        "from sklearn.cluster import KMeans\n",
        "model = KMeans(n_clusters=3)\n",
        "model.fit(X)\n",
        "model.labels_\n",
        "\n"
      ],
      "metadata": {
        "id": "lBSWdnTV3Tfc"
      },
      "execution_count": null,
      "outputs": []
    },
    {
      "cell_type": "markdown",
      "source": [
        "Можно добавить параметров в предыдущем коде для точности модели"
      ],
      "metadata": {
        "id": "gUsxYRjKe12h"
      }
    },
    {
      "cell_type": "code",
      "source": [
        "model.cluster_centers_"
      ],
      "metadata": {
        "id": "t7VOPuqS6h5j"
      },
      "execution_count": null,
      "outputs": []
    },
    {
      "cell_type": "markdown",
      "source": [
        "Попробуйте объяснить выполнение предыдущей ячейки ЗДЕСЬ"
      ],
      "metadata": {
        "id": "vxfK7K2CedRN"
      }
    },
    {
      "cell_type": "code",
      "source": [
        "plt.scatter(df.iloc[:,10],df.iloc[:,1], c=model.labels_, cmap='rainbow')"
      ],
      "metadata": {
        "id": "Q2sHRyqIVjcN"
      },
      "execution_count": null,
      "outputs": []
    },
    {
      "cell_type": "code",
      "source": [
        "\n",
        "plt.title('Наши предсказания')\n",
        "plt.scatter(df.iloc[:,1],df. iloc[:,18],c=model.labels_)#ВЫПОЛНИТЬ ДЛЯ РАЗНЫХ СТОЛБЦОВ (НОМЕРА В []) И ПОЯСНИТЬ\n"
      ],
      "metadata": {
        "id": "qrZ2dW_P6mxt"
      },
      "execution_count": null,
      "outputs": []
    },
    {
      "cell_type": "markdown",
      "source": [
        "Попробуйте объяснить выполнение предыдущей ячейки ЗДЕСЬ"
      ],
      "metadata": {
        "id": "0RPDLCJoeY-D"
      }
    },
    {
      "cell_type": "code",
      "source": [
        "plt.scatter(df.loc [:,'Имя столбца'],df.loc [:,'Имя столбца'], c=model.labels_);#ВЫПОЛНИТЬ ДЛЯ РАЗНЫХ СТОЛБЦОВ И ПОЯСНИТЬ"
      ],
      "metadata": {
        "id": "gOae44RS4324"
      },
      "execution_count": null,
      "outputs": []
    },
    {
      "cell_type": "markdown",
      "source": [
        "Попробуйте объяснить выполнение предыдущей ячейки ЗДЕСЬ"
      ],
      "metadata": {
        "id": "vWEHDM9peF45"
      }
    },
    {
      "cell_type": "code",
      "source": [],
      "metadata": {
        "id": "VOSW-_rWMML5"
      },
      "execution_count": null,
      "outputs": []
    },
    {
      "cell_type": "code",
      "source": [
        "colors = list(map(lambda x: '#3b4cc0' if x == 1 else '#b40426', model.labels_))\n",
        "plt.scatter(X[:,5], df.iloc[:,10], c=colors, marker=\"o\", picker=True) #есть ошибка исправьте!\n",
        "plt.title('Имя графика')\n",
        "plt.xlabel('Axis X[0]')\n",
        "plt.ylabel('Axis X[1]')\n",
        "plt.show()\n"
      ],
      "metadata": {
        "id": "CHik8D42MMio"
      },
      "execution_count": null,
      "outputs": []
    },
    {
      "cell_type": "code",
      "source": [
        "# T-SNE алгоритм\n",
        "\n",
        "X_reduced_tsne = TSNE(n_components=3, random_state=42).fit_transform(df.values)\n",
        "\n",
        "\n",
        "\n",
        "# PCA алгоритм\n",
        "\n",
        "X_reduced_pca = PCA(n_components=3, random_state=42).fit_transform(df.values)\n",
        "\n",
        "\n",
        "#ДЛЯ ВИЗУАЛИЗАЦИИ ПО ДАННЫМ МЕДОТАМ НУЖНЫ МЕТКИ КЛАССОВ И ПОЭТОМУ ВОЗЬМЕМ y"
      ],
      "metadata": {
        "id": "KsQfTwhQKvuM"
      },
      "execution_count": null,
      "outputs": []
    },
    {
      "cell_type": "code",
      "source": [
        "import seaborn as sns\n",
        "import matplotlib.patches as mpatches"
      ],
      "metadata": {
        "id": "FJ0zAiUZd0Zi"
      },
      "execution_count": null,
      "outputs": []
    },
    {
      "cell_type": "code",
      "source": [
        "#ДЛЯ ВИЗУАЛИЗАЦИИ ПО ДАННЫМ МЕДОТАМ НУЖНЫ МЕТКИ КЛАССОВ И ПОЭТОМУ ВОЗЬМЕМ y , НАПРИМЕР В ПРЕДЫДУЩЕМ МЕТОДЕ\n",
        "y=model.labels_\n",
        "y"
      ],
      "metadata": {
        "id": "IM8kI1UXfT6S"
      },
      "execution_count": null,
      "outputs": []
    },
    {
      "cell_type": "code",
      "source": [],
      "metadata": {
        "id": "9s-LSuKAoXmv"
      },
      "execution_count": null,
      "outputs": []
    },
    {
      "cell_type": "markdown",
      "source": [
        "СЛЕДУЮЩИЙ КОД ЗАПУТАН В ВИЗУАЛИЗАЦИИ ДАННЫХ ПОПРОБУЙТЕ РАСПУТАТЬ)"
      ],
      "metadata": {
        "id": "bYTyHnGZ--F4"
      }
    },
    {
      "cell_type": "code",
      "source": [
        "f, (ax1, ax2) = plt.subplots(1, 2, figsize=(24,6))\n",
        "f.suptitle('Кластеризация ', fontsize=14)\n",
        "\n",
        "\n",
        "blue_patch = mpatches.Patch(color='#0A0AFF', label='0')\n",
        "red_patch = mpatches.Patch(color='#AF0000', label='1')\n",
        "green_patch = mpatches.Patch(color='#008000', label='2')\n",
        "\n",
        "# t-SNE scatter plot\n",
        "ax1.scatter(X_reduced_tsne[:,0], X_reduced_tsne[:,1], cmap='coolwarm', label='0', linewidths=2)\n",
        "ax1.scatter(X_reduced_tsne[:,0], X_reduced_tsne[:,2],  cmap='coolwarm', label='1', linewidths=2)\n",
        "ax1.scatter(X_reduced_tsne[:,1], X_reduced_tsne[:,2], cmap='coolwarm', label='2', linewidths=2)\n",
        "\n",
        "ax1.set_title('t-SNE', fontsize=14)\n",
        "\n",
        "ax1.grid(True)\n",
        "\n",
        "ax1.legend(handles=[blue_patch, red_patch,green_patch])\n",
        "\n",
        "\n",
        "# PCA scatter plot\n",
        "ax2.scatter(X_reduced_pca[:,0], X_reduced_pca[:,1], c=(y == 0), cmap='coolwarm', label='1', linewidths=3)\n",
        "ax2.scatter(X_reduced_pca[:,0], X_reduced_pca[:,1], c=(y == 1), cmap='coolwarm', label='2', linewidths=3)\n",
        "ax2.scatter(X_reduced_pca[:,0], X_reduced_pca[:,1], c=(y == 2), cmap='coolwarm', label='3', linewidths=3)\n",
        "ax2.set_title('PCA', fontsize=14)\n",
        "\n",
        "ax2.legend(handles=[blue_patch, red_patch,green_patch])\n",
        "\n",
        "ax2.grid(True)\n",
        "\n",
        "\n",
        "\n",
        "\n",
        "plt.show()"
      ],
      "metadata": {
        "id": "R8fKfQ7nKtOl"
      },
      "execution_count": null,
      "outputs": []
    },
    {
      "cell_type": "code",
      "source": [
        "from sklearn.cluster import DBSCAN\n",
        "\n",
        "db = DBSCAN(eps=10, min_samples=8).fit(df)  # пробуйте менять eps и min_samples\n",
        "labels5 = db.labels_\n",
        "\n",
        "# Number of clusters in labels, ignoring noise if present.\n",
        "n_clusters_ = len(set(labels5)) - (1 if -1 in labels5 else 0)\n",
        "n_noise_ = list(labels5).count(-1)\n",
        "\n",
        "print(\"Estimated number of clusters: %d\" % n_clusters_)\n",
        "print(\"Estimated number of noise points: %d\" % n_noise_)"
      ],
      "metadata": {
        "id": "JRb4_O4QoZus"
      },
      "execution_count": null,
      "outputs": []
    },
    {
      "cell_type": "code",
      "source": [
        "unique_labels = set(labels5)\n",
        "core_samples_mask = np.zeros_like(labels5, dtype=bool)\n",
        "core_samples_mask[db.core_sample_indices_] = True\n",
        "\n",
        "colors = [plt.cm.Spectral(each) for each in np.linspace(0, 1, len(unique_labels))]\n",
        "for k, col in zip(unique_labels, colors):\n",
        "    if k == -1:\n",
        "        # Black used for noise.\n",
        "        col = [0, 0, 0, 1]\n",
        "\n",
        "    class_member_mask = labels5 == k\n",
        "\n",
        "    xy = X[class_member_mask & core_samples_mask]\n",
        "    plt.plot(\n",
        "        xy [:, 0],\n",
        "        xy[:, 1],\n",
        "        \"o\",\n",
        "        markerfacecolor=tuple(col),\n",
        "        markeredgecolor=\"k\",\n",
        "        markersize=14,\n",
        "    )\n",
        "\n",
        "    xy = X[class_member_mask & ~core_samples_mask]\n",
        "    plt.plot(\n",
        "        xy[:, 0],\n",
        "        xy [:, 1],\n",
        "        \"o\",\n",
        "        markerfacecolor=tuple(col),\n",
        "        markeredgecolor=\"k\",\n",
        "        markersize=6,\n",
        "    )\n",
        "\n",
        "plt.title(f\"Estimated number of clusters: {n_clusters_}\")\n",
        "plt.show()\n"
      ],
      "metadata": {
        "id": "iFw-B3epojXV"
      },
      "execution_count": null,
      "outputs": []
    }
  ]
}
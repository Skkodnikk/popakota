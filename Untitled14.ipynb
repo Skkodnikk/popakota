{
  "nbformat": 4,
  "nbformat_minor": 0,
  "metadata": {
    "colab": {
      "provenance": [],
      "authorship_tag": "ABX9TyNQ6ueu/GGK5fytBSrd5aoB",
      "include_colab_link": true
    },
    "kernelspec": {
      "name": "python3",
      "display_name": "Python 3"
    },
    "language_info": {
      "name": "python"
    }
  },
  "cells": [
    {
      "cell_type": "markdown",
      "metadata": {
        "id": "view-in-github",
        "colab_type": "text"
      },
      "source": [
        "<a href=\"https://colab.research.google.com/github/Skkodnikk/popakota/blob/main/Untitled14.ipynb\" target=\"_parent\"><img src=\"https://colab.research.google.com/assets/colab-badge.svg\" alt=\"Open In Colab\"/></a>"
      ]
    },
    {
      "cell_type": "code",
      "execution_count": 24,
      "metadata": {
        "id": "1fpmLAJ_Go3x"
      },
      "outputs": [],
      "source": [
        "import numpy as np\n",
        "import pandas as pd\n",
        "import matplotlib.pyplot as plt"
      ]
    },
    {
      "cell_type": "code",
      "source": [
        "np.random.seed(42)\n",
        "\n",
        "X = np.random.uniform(-10, 10, 100)\n",
        "nor = np.random.normal(0, 2, 100)\n",
        "Y = 4 * X + 8 + nor\n"
      ],
      "metadata": {
        "id": "u9nh3hmFzg0D"
      },
      "execution_count": 25,
      "outputs": []
    },
    {
      "cell_type": "code",
      "source": [
        "X_train = X[0::2].reshape(-1,1)\n",
        "Y_train = Y[0::2]\n",
        "X_test = X[1::2].reshape(-1,1)\n",
        "Y_test = Y[1::2]\n"
      ],
      "metadata": {
        "id": "bJoC7Wl-1z5m"
      },
      "execution_count": 26,
      "outputs": []
    },
    {
      "cell_type": "code",
      "source": [
        "from sklearn.linear_model import LinearRegression"
      ],
      "metadata": {
        "id": "1HgPMm6g1aoi"
      },
      "execution_count": 27,
      "outputs": []
    },
    {
      "cell_type": "code",
      "source": [
        "model = LinearRegression()\n",
        "model.fit(X_train, Y_train)\n",
        "w = model.coef_\n",
        "b = model.intercept_"
      ],
      "metadata": {
        "id": "A3lfwm6Dzp_A"
      },
      "execution_count": 28,
      "outputs": []
    },
    {
      "cell_type": "code",
      "source": [
        "w, b"
      ],
      "metadata": {
        "colab": {
          "base_uri": "https://localhost:8080/"
        },
        "id": "CqL80pB8zqQe",
        "outputId": "c8661f1e-33a6-4907-d3e9-3e056e62e116"
      },
      "execution_count": 29,
      "outputs": [
        {
          "output_type": "execute_result",
          "data": {
            "text/plain": [
              "(array([3.9630411]), 7.865158045122419)"
            ]
          },
          "metadata": {},
          "execution_count": 29
        }
      ]
    },
    {
      "cell_type": "code",
      "source": [
        "Y_train_prediction = model.predict(X_train)\n",
        "Y_test_prediction = model.predict(X_test)"
      ],
      "metadata": {
        "id": "d0S570F0zqXr"
      },
      "execution_count": 30,
      "outputs": []
    },
    {
      "cell_type": "code",
      "source": [
        "from sklearn.metrics import mean_squared_error"
      ],
      "metadata": {
        "id": "6RjKhDgZzqbF"
      },
      "execution_count": 31,
      "outputs": []
    },
    {
      "cell_type": "code",
      "source": [
        "Y_train_predicted = model. predict (X_train)\n",
        "Y_test_predicted = model. predict (X_test)\n",
        "print('Train MSE: ' , mean_squared_error (Y_train, Y_train_predicted))\n",
        "print('Test MSE: ', mean_squared_error (Y_test, Y_test_predicted))"
      ],
      "metadata": {
        "colab": {
          "base_uri": "https://localhost:8080/"
        },
        "id": "nbAU0ENnzqea",
        "outputId": "7956e7a1-f121-437a-8ef4-7828da2bcb84"
      },
      "execution_count": 32,
      "outputs": [
        {
          "output_type": "stream",
          "name": "stdout",
          "text": [
            "Train MSE:  3.1427044485872746\n",
            "Test MSE:  3.340154979235459\n"
          ]
        }
      ]
    },
    {
      "cell_type": "code",
      "source": [
        "from sklearn.metrics import mean_absolute_error\n",
        "print('Train MAE:', mean_absolute_error (Y_train, Y_train_predicted))\n",
        "print('Test MAE:', mean_absolute_error (Y_test, Y_test_predicted))"
      ],
      "metadata": {
        "colab": {
          "base_uri": "https://localhost:8080/"
        },
        "id": "mk_NYt6b4czT",
        "outputId": "dce1cd06-bfed-4be3-a81e-d079d44ffc44"
      },
      "execution_count": 33,
      "outputs": [
        {
          "output_type": "stream",
          "name": "stdout",
          "text": [
            "Train MAE: 1.3903943506847778\n",
            "Test MAE: 1.442465623666734\n"
          ]
        }
      ]
    },
    {
      "cell_type": "code",
      "source": [
        "a1 = 3.9630411\n",
        "b1 = 7.86515805\n",
        "a2 = 3.9630411\n",
        "b2 = 7.865158045122419\n",
        "X = np.arange(0, 10, 0.1)\n",
        "y1 = (a1 * X + b1)\n",
        "y2 = (a2 * X + b2)\n",
        "\n",
        "plt.figure(figsize=(8, 6))\n",
        "plt.plot(X, y1, label='1')\n",
        "plt.plot(X, y2, label='2')\n",
        "plt.xlabel('Ось X')\n",
        "plt.ylabel('Ось Y')\n",
        "plt.title('График с двумя наборами данных')\n",
        "plt.legend()\n",
        "plt.show()"
      ],
      "metadata": {
        "colab": {
          "base_uri": "https://localhost:8080/",
          "height": 564
        },
        "id": "iyiBtAW147Vn",
        "outputId": "c2d5d8fd-1948-4d8b-fa44-0f7462941b1e"
      },
      "execution_count": 47,
      "outputs": [
        {
          "output_type": "display_data",
          "data": {
            "text/plain": [
              "<Figure size 800x600 with 1 Axes>"
            ],
            "image/png": "[encoded data removed]"
          },
          "metadata": {}
        }
      ]
    }
  ]
}
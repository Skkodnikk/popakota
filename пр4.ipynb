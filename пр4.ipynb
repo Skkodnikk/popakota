{
  "nbformat": 4,
  "nbformat_minor": 0,
  "metadata": {
    "colab": {
      "provenance": [],
      "authorship_tag": "ABX9TyMOZNIz2UlwJyuG4oyQEx71",
      "include_colab_link": true
    },
    "kernelspec": {
      "name": "python3",
      "display_name": "Python 3"
    },
    "language_info": {
      "name": "python"
    }
  },
  "cells": [
    {
      "cell_type": "markdown",
      "metadata": {
        "id": "view-in-github",
        "colab_type": "text"
      },
      "source": [
        "<a href=\"https://colab.research.google.com/github/Skkodnikk/popakota/blob/main/%D0%BF%D1%804.ipynb\" target=\"_parent\"><img src=\"https://colab.research.google.com/assets/colab-badge.svg\" alt=\"Open In Colab\"/></a>"
      ]
    },
    {
      "cell_type": "code",
      "execution_count": 4,
      "metadata": {
        "colab": {
          "base_uri": "https://localhost:8080/"
        },
        "id": "uZ6570mbjVhl",
        "outputId": "f4dc1c9e-455f-4310-d3cf-e1db27a2d7ad"
      },
      "outputs": [
        {
          "output_type": "stream",
          "name": "stdout",
          "text": [
            "[1 2 3 4 5]\n",
            "[1 2 3 4 5]\n",
            "[1 3 5 7 9]\n",
            "[ 1.   5.5 10. ]\n",
            "[1 2 3 4 5]\n"
          ]
        }
      ],
      "source": [
        "#1\n",
        "import numpy as i\n",
        "a1 = i.array([1, 2, 3, 4, 5])\n",
        "print(a1)\n",
        "a2 = i.arange(1, 6)\n",
        "print(a2)\n",
        "a3 = i.arange(1, 10, 2)\n",
        "print(a3)\n",
        "a4 = i.linspace(1, 10, 3)\n",
        "print(a4)\n",
        "a5 = i.array([1, 2, 3, 4, 5], dtype=int)\n",
        "print(a5)"
      ]
    },
    {
      "cell_type": "code",
      "source": [
        "#2\n",
        "even = i.arange(2, 21, 2)\n",
        "odd = i.arange(1, 21, 2)\n",
        "posit = i.linspace(1, 10, 10)\n",
        "negat = i.linspace(-1, -10, 10)\n",
        "print(\"четныe:\", even)\n",
        "print(\"нечетныe:\", odd)\n",
        "print(\"положит:\", posit)\n",
        "print(\"отрицат:\", negat)"
      ],
      "metadata": {
        "colab": {
          "base_uri": "https://localhost:8080/"
        },
        "id": "zMzZzB3Ojc8M",
        "outputId": "a8b0314e-e1dd-4060-8349-e00b0c955300"
      },
      "execution_count": 8,
      "outputs": [
        {
          "output_type": "stream",
          "name": "stdout",
          "text": [
            "четныe: [ 2  4  6  8 10 12 14 16 18 20]\n",
            "нечетныe: [ 1  3  5  7  9 11 13 15 17 19]\n",
            "положит: [ 1.  2.  3.  4.  5.  6.  7.  8.  9. 10.]\n",
            "отрицат: [ -1.  -2.  -3.  -4.  -5.  -6.  -7.  -8.  -9. -10.]\n"
          ]
        }
      ]
    },
    {
      "cell_type": "code",
      "source": [
        "#3\n",
        "one = i.ones(5)\n",
        "zero = i.zeros(5)\n",
        "empty = i.empty(5)\n",
        "print(\"из единиц:\", one)\n",
        "print(\"из нулей:\", zero)\n",
        "print(\"рандом:\", empty)"
      ],
      "metadata": {
        "colab": {
          "base_uri": "https://localhost:8080/"
        },
        "id": "aogMSVe3jd61",
        "outputId": "6c8ec30f-abc6-4f5a-a63b-82d6f984a3b4"
      },
      "execution_count": 9,
      "outputs": [
        {
          "output_type": "stream",
          "name": "stdout",
          "text": [
            "из единиц: [1. 1. 1. 1. 1.]\n",
            "из нулей: [0. 0. 0. 0. 0.]\n",
            "пустой: [4.9e-324 1.5e-323 2.5e-323 3.5e-323 4.4e-323]\n"
          ]
        }
      ]
    },
    {
      "cell_type": "code",
      "source": [
        "#4\n",
        "import numpy as i\n",
        "a1 = i.array([1, 2, 3, 4, 5])\n",
        "a2 = i.arange(1, 6)\n",
        "a3 = i.arange(1, 10, 2)\n",
        "a4 = i.linspace(1, 10, 3)\n",
        "a5 = i.array([1, 2, 3, 4, 5], dtype=int)\n",
        "sa1 = a1[1:4]\n",
        "sa2 = a2[3:]\n",
        "sa3 = a3[:5]\n",
        "sa4 = a4[2:10]\n",
        "sa5 = a5[2:]\n",
        "print(sa1)\n",
        "print(sa2)\n",
        "print(sa3)\n",
        "print(sa4)\n",
        "print(sa5)"
      ],
      "metadata": {
        "colab": {
          "base_uri": "https://localhost:8080/"
        },
        "id": "obau16rgje-6",
        "outputId": "31c44cfe-9a5c-40de-81fd-2c2aec7482e0"
      },
      "execution_count": 42,
      "outputs": [
        {
          "output_type": "stream",
          "name": "stdout",
          "text": [
            "[2 3 4]\n",
            "[4 5]\n",
            "[1 3 5 7 9]\n",
            "[10.]\n",
            "[3 4 5]\n"
          ]
        }
      ]
    },
    {
      "cell_type": "code",
      "source": [
        "#5\n",
        "ar = i.array([3, 6, 19, 3, 11, 35])\n",
        "sum = i.sum(ar)\n",
        "max = i.max(ar)\n",
        "min = i.min(ar)\n",
        "print(\"Массив:\", ar)\n",
        "print(\"Сумма:\", sum)\n",
        "print(\"Макс:\", max)\n",
        "print(\"Мин:\", min)"
      ],
      "metadata": {
        "colab": {
          "base_uri": "https://localhost:8080/"
        },
        "id": "MaQSarJTjf8W",
        "outputId": "9f4fa135-eb93-4420-fa88-1c58e1ad9d5e"
      },
      "execution_count": 17,
      "outputs": [
        {
          "output_type": "stream",
          "name": "stdout",
          "text": [
            "Массив: [ 3  6 19  3 11 35]\n",
            "Сумма: 77\n",
            "Макс: 35\n",
            "Мин: 3\n"
          ]
        }
      ]
    },
    {
      "cell_type": "code",
      "source": [
        "#6\n",
        "import numpy as np\n",
        "A = i.array([3, 4, 13, 8, 17, 16])\n",
        "A1 = A[::2]\n",
        "A2 = A[::-2]\n",
        "M = np.concatenate((A1,A2))\n",
        "print(A)\n",
        "print(M)"
      ],
      "metadata": {
        "colab": {
          "base_uri": "https://localhost:8080/"
        },
        "id": "uJN6e18ojgxQ",
        "outputId": "258dd547-2a39-409e-f90b-5c4bf2e5b00c"
      },
      "execution_count": 61,
      "outputs": [
        {
          "output_type": "stream",
          "name": "stdout",
          "text": [
            "[ 3  4 13  8 17 16]\n",
            "[ 3 13 17 16  8  4]\n"
          ]
        }
      ]
    },
    {
      "cell_type": "code",
      "source": [
        "#7\n",
        "N = 10\n",
        "A1 = i.array([1, 3, 5, 7, 9, 2, 4, 6, 8, 10])\n",
        "K = 2\n",
        "L = 8\n",
        "sume = i.sum(A1[K-1:L])\n",
        "print(\"от\", K, \"до\", L, \"=\", sume)"
      ],
      "metadata": {
        "colab": {
          "base_uri": "https://localhost:8080/"
        },
        "id": "9HCvTfWvjhWl",
        "outputId": "1af8089a-69c8-49a6-9709-d142868e6353"
      },
      "execution_count": 21,
      "outputs": [
        {
          "output_type": "stream",
          "name": "stdout",
          "text": [
            "от 2 до 8 = 36\n"
          ]
        }
      ]
    },
    {
      "cell_type": "code",
      "source": [
        "#8\n",
        "C = i.array([1, 3, 5, 7, 9])\n",
        "B = i.array([2, 4, 6, 8, 10])\n",
        "summ = C + B\n",
        "lessm = (C + B) / 4\n",
        "print(\"поэлементной сумме:\")\n",
        "print(summ)\n",
        "print(\"поэлементно меньше в 4 раза суммы:\")\n",
        "print(lessm)"
      ],
      "metadata": {
        "colab": {
          "base_uri": "https://localhost:8080/"
        },
        "id": "MwesDPaIjiAi",
        "outputId": "4b9096d8-c364-45e7-c523-fe0c20d34b34"
      },
      "execution_count": 22,
      "outputs": [
        {
          "output_type": "stream",
          "name": "stdout",
          "text": [
            "поэлементной сумме:\n",
            "[ 3  7 11 15 19]\n",
            "поэлементно меньше в 4 раза суммы:\n",
            "[0.75 1.75 2.75 3.75 4.75]\n"
          ]
        }
      ]
    },
    {
      "cell_type": "code",
      "source": [
        "#9\n",
        "ag = i.array([43, 95, 39, 57, 21, 63])\n",
        "ars = sorted(ag, key=lambda x: int(str(x)[0]))#\n",
        "print(\"по возрастанию первой цифры:\")\n",
        "print(ars)"
      ],
      "metadata": {
        "colab": {
          "base_uri": "https://localhost:8080/"
        },
        "id": "oJMVT3nBjihj",
        "outputId": "801cbf3f-7b5b-448a-f1b7-b9bd01023f6d"
      },
      "execution_count": 27,
      "outputs": [
        {
          "output_type": "stream",
          "name": "stdout",
          "text": [
            "по возрастанию первой цифры:\n",
            "[21, 39, 43, 57, 63, 95]\n"
          ]
        }
      ]
    },
    {
      "cell_type": "code",
      "source": [
        "#10\n",
        "import random\n",
        "N = 10\n",
        "ar = [random.randint(1, 100) for _ in range(N)]\n",
        "max = float('-inf')\n",
        "maxp = None\n",
        "for i in range(N-1):\n",
        "    if ar[i] + ar[i+1] > max:\n",
        "        max = ar[i] + ar[i+1]\n",
        "        maxp = (ar[i], ar[i+1])\n",
        "print(\"Массив:\", ar)\n",
        "print(\"Два с максимальной суммой:\", maxp)"
      ],
      "metadata": {
        "colab": {
          "base_uri": "https://localhost:8080/"
        },
        "id": "znNmJ2pRjjCv",
        "outputId": "25531aba-d7a6-421d-fe75-7077d40abbb4"
      },
      "execution_count": 28,
      "outputs": [
        {
          "output_type": "stream",
          "name": "stdout",
          "text": [
            "Массив: [37, 42, 93, 15, 62, 9, 46, 89, 11, 38]\n",
            "Два с максимальной суммой: (42, 93)\n"
          ]
        }
      ]
    },
    {
      "cell_type": "code",
      "source": [
        "#11\n",
        "ar = [2, 0, 5, 0, 3, 7, 0, 1, 0, 4]\n",
        "ar.sort(key=lambda x: x == 0)\n",
        "print(ar)"
      ],
      "metadata": {
        "colab": {
          "base_uri": "https://localhost:8080/"
        },
        "id": "o56BLhLKjj6Q",
        "outputId": "c5fbcb3d-f19b-422f-ffbb-fe82afdd6559"
      },
      "execution_count": 57,
      "outputs": [
        {
          "output_type": "stream",
          "name": "stdout",
          "text": [
            "[2, 5, 3, 7, 1, 4, 0, 0, 0, 0]\n"
          ]
        }
      ]
    },
    {
      "cell_type": "code",
      "source": [
        "#12"
      ],
      "metadata": {
        "id": "BLKv4kTIjkcr"
      },
      "execution_count": null,
      "outputs": []
    },
    {
      "cell_type": "code",
      "source": [
        "#13\n",
        "ab = [3, 6, 2, 9, 7, 1, 5]\n",
        "maxn = float('-inf')\n",
        "for i in range(1, len(ab) - 1):\n",
        "    if ab[i] > ab[i - 1] and ab[i] < ab[i + 1]:\n",
        "        if ab[i] > maxn:\n",
        "            maxn = ab[i]\n",
        "    elif ab[i] < ab[i - 1] and ab[i] > ab[i + 1]:\n",
        "        if ab[i] > maxn:\n",
        "            maxn = ab[i]\n",
        "print(maxn if maxn != float('-inf') else 0)"
      ],
      "metadata": {
        "colab": {
          "base_uri": "https://localhost:8080/"
        },
        "id": "wKCBgFS6jlJU",
        "outputId": "7f25a97b-10b2-4c38-8ae7-9cd89ac52e46"
      },
      "execution_count": 45,
      "outputs": [
        {
          "output_type": "stream",
          "name": "stdout",
          "text": [
            "7\n"
          ]
        }
      ]
    }
  ]
}
{
  "nbformat": 4,
  "nbformat_minor": 0,
  "metadata": {
    "colab": {
      "provenance": [],
      "authorship_tag": "ABX9TyMard8np49eHxDIw3P+Plvo",
      "include_colab_link": true
    },
    "kernelspec": {
      "name": "python3",
      "display_name": "Python 3"
    },
    "language_info": {
      "name": "python"
    }
  },
  "cells": [
    {
      "cell_type": "markdown",
      "metadata": {
        "id": "view-in-github",
        "colab_type": "text"
      },
      "source": [
        "<a href=\"https://colab.research.google.com/github/Skkodnikk/popakota/blob/main/Untitled3.ipynb\" target=\"_parent\"><img src=\"https://colab.research.google.com/assets/colab-badge.svg\" alt=\"Open In Colab\"/></a>"
      ]
    },
    {
      "cell_type": "code",
      "execution_count": null,
      "metadata": {
        "colab": {
          "base_uri": "https://localhost:8080/"
        },
        "id": "Tq0TJLzqrE43",
        "outputId": "5ae880c2-82d4-40f3-94f4-619460cd4992"
      },
      "outputs": [
        {
          "output_type": "stream",
          "name": "stdout",
          "text": [
            "[[1 2 3]\n",
            " [4 5 6]]\n",
            "[[ 1.   2.8  4.6]\n",
            " [ 6.4  8.2 10. ]]\n",
            "[[10 12 14]\n",
            " [16 18 20]]\n",
            "[[4 3 2]\n",
            " [5 9 5]\n",
            " [3 4 1]]\n",
            "[[0.11207452 0.84513526 0.26645601]\n",
            " [0.05798248 0.34315229 0.88229515]\n",
            " [0.03314242 0.35335372 0.7125442 ]]\n"
          ]
        }
      ],
      "source": [
        "#1\n",
        "import numpy as np\n",
        "arr1 = np.array([[1, 2, 3], [4, 5, 6]])\n",
        "print(arr1)\n",
        "arr2 = np.linspace(1, 10, 6)\n",
        "arr2.shape = (2, 3)\n",
        "print(arr2)\n",
        "arr3 = np.arange(10, 22, 2)\n",
        "arr3.shape = (2,3)\n",
        "print(arr3)\n",
        "arr4 = np.random.randint(1, 10, size=(3, 3))\n",
        "print(arr4)\n",
        "arr5 = np.random.rand(3, 3)\n",
        "print(arr5)\n"
      ]
    },
    {
      "cell_type": "code",
      "source": [
        "#2\n",
        "import numpy as np\n",
        "u_arr = np.random.uniform(5, 10, (2, 3))\n",
        "print(u_arr)\n",
        "n_arr = np.random.normal(2, 12, (2, 3))\n",
        "print(n_arr)\n",
        "e_arr = np.random.exponential(3, (2, 3))\n",
        "print(e_arr)"
      ],
      "metadata": {
        "colab": {
          "base_uri": "https://localhost:8080/"
        },
        "id": "9MphIGW4rIxR",
        "outputId": "7bd28fc4-76a5-42c5-d350-cf99806df861"
      },
      "execution_count": null,
      "outputs": [
        {
          "output_type": "stream",
          "name": "stdout",
          "text": [
            "[[5.95472351 8.40720283 9.00691042]\n",
            " [9.51170202 6.85048988 6.94027669]]\n",
            "[[19.89446723 16.32231167 -7.39679704]\n",
            " [-6.4769963  10.85363993  8.95293961]]\n",
            "[[0.95912279 1.1203038  8.04952436]\n",
            " [1.47368566 5.09185274 5.22890625]]\n"
          ]
        }
      ]
    },
    {
      "cell_type": "code",
      "source": [
        "print(arr4)\n",
        "print(np.min(arr4, axis=1))\n",
        "\n",
        "print(np.min(arr4, axis=0))"
      ],
      "metadata": {
        "colab": {
          "base_uri": "https://localhost:8080/"
        },
        "id": "FbXQkY2X3jF2",
        "outputId": "334bce0f-9a1b-4b8a-9165-b410599fae3a"
      },
      "execution_count": null,
      "outputs": [
        {
          "output_type": "stream",
          "name": "stdout",
          "text": [
            "[[4 3 2]\n",
            " [5 9 5]\n",
            " [3 4 1]]\n",
            "[2 5 1]\n",
            "[3 3 1]\n"
          ]
        }
      ]
    },
    {
      "cell_type": "code",
      "source": [
        "#3\n",
        "u_mean = np.mean(u_arr)\n",
        "u_max = np.max(u_arr)\n",
        "u_min = np.min(u_arr)\n",
        "u_std = np.std(u_arr)\n",
        "print(\"uniform:\")\n",
        "print(u_mean)\n",
        "print(u_max)\n",
        "print(u_min)\n",
        "print(u_std)\n",
        "\n",
        "n_mean = np.mean(n_arr)\n",
        "n_max = np.max(n_arr)\n",
        "n_min = np.min(n_arr)\n",
        "n_std = np.std(n_arr)\n",
        "print(\"normal:\")\n",
        "print(n_mean)\n",
        "print(n_max)\n",
        "print(n_min)\n",
        "print(n_std)\n",
        "\n",
        "e_mean = np.mean(e_arr)\n",
        "e_max = np.max(e_arr)\n",
        "e_min = np.min(e_arr)\n",
        "e_std = np.std(e_arr)\n",
        "print(\"exponential:\")\n",
        "print(e_mean)\n",
        "print(e_max)\n",
        "print(e_min)\n",
        "print(e_std)"
      ],
      "metadata": {
        "colab": {
          "base_uri": "https://localhost:8080/"
        },
        "id": "zEupa8xjrJmu",
        "outputId": "ee880974-cf66-4bc0-a374-f0d538198899"
      },
      "execution_count": null,
      "outputs": [
        {
          "output_type": "stream",
          "name": "stdout",
          "text": [
            "uniform:\n",
            "7.778550892581319\n",
            "9.51170202277141\n",
            "5.954723506546712\n",
            "1.2779039111896808\n",
            "normal:\n",
            "7.0249275187487585\n",
            "19.89446723352335\n",
            "-7.396797036954975\n",
            "10.49389314365263\n",
            "exponential:\n",
            "3.6538992657707063\n",
            "8.049524356069359\n",
            "0.9591227909221361\n",
            "2.655313376640392\n"
          ]
        }
      ]
    },
    {
      "cell_type": "code",
      "source": [
        "#4\n",
        "import numpy as np\n",
        "x1 = 25\n",
        "sqrt = np.sqrt(x1)\n",
        "print(sqrt)\n",
        "\n",
        "x2 = 10\n",
        "log10 = np.log10(x2)\n",
        "print(log10)\n",
        "\n",
        "A1 = np.array([[1, 2], [3, 4]])\n",
        "B1 = np.array([6, 3])\n",
        "X1 = np.linalg.solve(A1, B1)\n",
        "print(X1)\n",
        "\n",
        "A2 = np.array([[1, 3], [6, 2]])\n",
        "B2 = np.array([2, 5])\n",
        "A_inv = np.linalg.inv(A2)\n",
        "X2 = np.dot(A_inv, B2)\n",
        "print(X2)"
      ],
      "metadata": {
        "colab": {
          "base_uri": "https://localhost:8080/"
        },
        "id": "oZLc7AkYrKUm",
        "outputId": "be5e4278-09a8-483c-ebb7-b1c2d33ff102"
      },
      "execution_count": null,
      "outputs": [
        {
          "output_type": "stream",
          "name": "stdout",
          "text": [
            "5.0\n",
            "1.0\n",
            "[-9.   7.5]\n",
            "[0.6875 0.4375]\n"
          ]
        }
      ]
    },
    {
      "cell_type": "code",
      "source": [
        "#5\n",
        "import numpy as np\n",
        "arr1 = np.array([1, 2, 3])\n",
        "arr2 = np.array([4, 5, 6])\n",
        "hstack = np.hstack((arr1, arr2))\n",
        "print(\"hstack:\")\n",
        "print(hstack)\n",
        "\n",
        "vstack = np.vstack((arr1, arr2))\n",
        "print(\"vstack:\")\n",
        "print(vstack)\n",
        "\n",
        "column = np.column_stack((arr1, arr2))\n",
        "print(\"column:\")\n",
        "print(column)\n",
        "\n",
        "row = np.row_stack((arr1, arr2))\n",
        "print(\"row:\")\n",
        "print(row)\n",
        "\n",
        "arr = np.arange(12)\n",
        "split = np.array_split(arr, 3)\n",
        "print(\"split:\")\n",
        "for i, sub_arr in enumerate(split):\n",
        "    print(f\"{i + 1}: {sub_arr}\")\n"
      ],
      "metadata": {
        "colab": {
          "base_uri": "https://localhost:8080/"
        },
        "id": "R5meQVE-rKzq",
        "outputId": "266eca0b-0a4a-460f-ef9b-94d0178c6f30"
      },
      "execution_count": null,
      "outputs": [
        {
          "output_type": "stream",
          "name": "stdout",
          "text": [
            "hstack:\n",
            "[1 2 3 4 5 6]\n",
            "vstack:\n",
            "[[1 2 3]\n",
            " [4 5 6]]\n",
            "column:\n",
            "[[1 4]\n",
            " [2 5]\n",
            " [3 6]]\n",
            "row:\n",
            "[[1 2 3]\n",
            " [4 5 6]]\n",
            "split:\n",
            "1: [0 1 2 3]\n",
            "2: [4 5 6 7]\n",
            "3: [ 8  9 10 11]\n"
          ]
        }
      ]
    },
    {
      "cell_type": "code",
      "source": [
        "#7\n",
        "import numpy as np\n",
        "N = 5\n",
        "M = 3\n",
        "matrix = np.random.randint(1, 10, (N, M))\n",
        "m_sum = 0\n",
        "m_sum_row = 0\n",
        "for i in range(N):\n",
        "    r_sum = np.sum(matrix[i])\n",
        "    if r_sum > m_sum:\n",
        "        m_sum = r_sum\n",
        "        m_sum_row = i\n",
        "print(matrix)\n",
        "print(f\" {m_sum_row}\")\n",
        "print(f\"{m_sum}\")"
      ],
      "metadata": {
        "colab": {
          "base_uri": "https://localhost:8080/"
        },
        "id": "L0FEUnz_rLkt",
        "outputId": "4c4b863e-27c7-4f2c-ae3a-86775b264ac7"
      },
      "execution_count": null,
      "outputs": [
        {
          "output_type": "stream",
          "name": "stdout",
          "text": [
            "[[6 2 4]\n",
            " [6 6 5]\n",
            " [9 9 7]\n",
            " [6 5 5]\n",
            " [3 8 5]]\n",
            " 2\n",
            "25\n"
          ]
        }
      ]
    },
    {
      "cell_type": "code",
      "source": [
        "import matplotlib.pyplot as plt\n",
        "\n",
        "# Создание списков X и Y\n",
        "X = [1, 2, 3, 4, 5, 6, 7, 8, 9, 10]\n",
        "Y = [3, 5, 7, 9, 11, 13, 15, 17, 19, 21]\n",
        "\n",
        "# Построение графика с двумя линиями X и Y\n",
        "plt.figure()\n",
        "plt.plot(X, label='X')\n",
        "plt.plot(Y, label='Y')\n",
        "plt.legend()\n",
        "plt.xlabel('Index')\n",
        "plt.ylabel('Value')\n",
        "plt.title('График с двумя линиями X и Y')\n",
        "\n",
        "# Построение графика Y в зависимости от X\n",
        "plt.figure()\n",
        "plt.plot(X, Y)\n",
        "plt.xlabel('X')\n",
        "plt.ylabel('Y')\n",
        "plt.title('График Y в зависимости от X')\n",
        "\n",
        "plt.show()"
      ],
      "metadata": {
        "colab": {
          "base_uri": "https://localhost:8080/",
          "height": 927
        },
        "id": "If6eOcUpDsTM",
        "outputId": "45cb4c50-e79a-4602-dd12-72d19d201923"
      },
      "execution_count": 1,
      "outputs": [
        {
          "output_type": "display_data",
          "data": {
            "text/plain": [
              "<Figure size 640x480 with 1 Axes>"
            ],
            "image/png": "[encoded data removed]"
          },
          "metadata": {}
        },
        {
          "output_type": "display_data",
          "data": {
            "text/plain": [
              "<Figure size 640x480 with 1 Axes>"
            ],
            "image/png": "[encoded data removed]"
          },
          "metadata": {}
        }
      ]
    }
  ]
}
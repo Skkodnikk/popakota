{
  "nbformat": 4,
  "nbformat_minor": 0,
  "metadata": {
    "colab": {
      "provenance": [],
      "authorship_tag": "ABX9TyMuSCgNcuMwxNkD8QH1dwVI",
      "include_colab_link": true
    },
    "kernelspec": {
      "name": "python3",
      "display_name": "Python 3"
    },
    "language_info": {
      "name": "python"
    }
  },
  "cells": [
    {
      "cell_type": "markdown",
      "metadata": {
        "id": "view-in-github",
        "colab_type": "text"
      },
      "source": [
        "<a href=\"https://colab.research.google.com/github/Skkodnikk/popakota/blob/main/Untitled9.ipynb\" target=\"_parent\"><img src=\"https://colab.research.google.com/assets/colab-badge.svg\" alt=\"Open In Colab\"/></a>"
      ]
    },
    {
      "cell_type": "code",
      "execution_count": null,
      "metadata": {
        "colab": {
          "base_uri": "https://localhost:8080/"
        },
        "id": "GQ4S25s1rCoE",
        "outputId": "c34e48a3-b353-400d-d567-2c2416c107c0"
      },
      "outputs": [
        {
          "output_type": "stream",
          "name": "stdout",
          "text": [
            "10000\n",
            "11\n",
            "100000\n",
            "месяцев: 23\n",
            "размер вклада: 110262.67188467836\n"
          ]
        }
      ],
      "source": [
        "#1\n",
        "P = float(input())\n",
        "X = float(input())\n",
        "M = float(input())\n",
        "K = 0\n",
        "S = P\n",
        "while S <= M:\n",
        "    S += S * X / 100\n",
        "    K += 1\n",
        "print(\"месяцев:\", K)\n",
        "print(\"размер вклада:\", S)"
      ]
    },
    {
      "cell_type": "code",
      "source": [
        "#2\n",
        "L = []\n",
        "while True:\n",
        "    il = input(\"Введите элементы списка (через пробел): \").split()\n",
        "    if len(il) >= 8:\n",
        "        L = [int(x) for x in il]\n",
        "        break\n",
        "    else:\n",
        "        print(f\"Список должен содержать не менее 8 элементов. Вам нужно добавить {8 - len(il)} элемента(ов).\")\n",
        "X = int(input(\"X: \"))\n",
        "M = int(input(\"M: \"))\n",
        "if X in L:\n",
        "    f = L.index(X)\n",
        "    print(f\"Первая позиция {X} в списке L: {f}\")\n",
        "else:\n",
        "    print(f\"Элемент со значением {X} не найден в списке L.\")"
      ],
      "metadata": {
        "colab": {
          "base_uri": "https://localhost:8080/"
        },
        "id": "oLX3bKghwaL-",
        "outputId": "7fed7868-6b43-43cf-8caf-70b02067ab28"
      },
      "execution_count": null,
      "outputs": [
        {
          "output_type": "stream",
          "name": "stdout",
          "text": [
            "Введите элементы списка (через пробел): 1 1 2 2 3 4 5 6 7 7\n",
            "X: 3\n",
            "M: 1\n",
            "Первая позиция 3 в списке L: 4\n"
          ]
        }
      ]
    },
    {
      "cell_type": "code",
      "source": [
        "if M < len(L):\n",
        "    L.insert(M, X)\n",
        "    print(f\"Элемент {X} на {M}. Cписок: {L}\")\n",
        "else:\n",
        "    print(f\"Позиция M ({M}) находится вне диапазона списка.\")"
      ],
      "metadata": {
        "colab": {
          "base_uri": "https://localhost:8080/"
        },
        "id": "Yavxa9FO5bvy",
        "outputId": "67ef1668-405f-4127-ab81-f9faf267a91a"
      },
      "execution_count": null,
      "outputs": [
        {
          "output_type": "stream",
          "name": "stdout",
          "text": [
            "Элемент 3 на 1. Cписок: [1, 3, 1, 2, 2, 3, 4, 5, 6, 7, 7]\n"
          ]
        }
      ]
    },
    {
      "cell_type": "code",
      "source": [
        "cX = L.count(X)\n",
        "print(f\"Элементов, равных {X}: {cX}\")"
      ],
      "metadata": {
        "colab": {
          "base_uri": "https://localhost:8080/"
        },
        "id": "88TacgHa5gMY",
        "outputId": "e073bae1-e993-47f1-e688-eea39ad243ed"
      },
      "execution_count": null,
      "outputs": [
        {
          "output_type": "stream",
          "name": "stdout",
          "text": [
            "Элементов, равных 3: 2\n"
          ]
        }
      ]
    },
    {
      "cell_type": "code",
      "source": [
        "if M < len(L):\n",
        "    rem = L.pop(M)\n",
        "    print(f\"Извлечен с {M}: {rem}\")\n",
        "    print(f\"Список: {L}\")\n",
        "else:\n",
        "    print(f\"Невозможно удалить {M}, выходит за пределы.\")\n",
        "L.append(X)\n",
        "print(f\"Элемент {X} добавлен в конец. Список: {L}\")\n",
        "\n",
        "L.reverse()\n",
        "print(f\"Перевернутый список: {L}\")"
      ],
      "metadata": {
        "colab": {
          "base_uri": "https://localhost:8080/"
        },
        "id": "sLEnyxVB5icF",
        "outputId": "820a8a15-ee32-498b-beda-3db1a5399ac8"
      },
      "execution_count": null,
      "outputs": [
        {
          "output_type": "stream",
          "name": "stdout",
          "text": [
            "Извлечен с 1: 7\n",
            "Список: [3, 7, 6, 5, 4, 3, 2, 2, 1]\n",
            "Элемент 3 добавлен в конец. Список: [3, 7, 6, 5, 4, 3, 2, 2, 1, 3]\n",
            "Перевернутый список: [3, 1, 2, 2, 3, 4, 5, 6, 7, 3]\n"
          ]
        }
      ]
    },
    {
      "cell_type": "code",
      "source": [
        "if X in L:\n",
        "    L.remove(X)\n",
        "    print(f\"Элемент {X} удален. Список: {L}\")\n",
        "else:\n",
        "    print(f\"Элемент {X} не найден.\")\n",
        "\n",
        "ti = input(\"Введите элементы кортеджа: \")\n",
        "tt = tuple(int(x) for x in ti.split())\n",
        "L.extend(tt)\n",
        "print(f\"Кортеж {tt} добавлен в конец списка. Список: {L}\")"
      ],
      "metadata": {
        "colab": {
          "base_uri": "https://localhost:8080/"
        },
        "id": "At7_WSxw5oaX",
        "outputId": "7c4b662f-1d0c-4020-d7f3-9678a1beb27b"
      },
      "execution_count": null,
      "outputs": [
        {
          "output_type": "stream",
          "name": "stdout",
          "text": [
            "Элемент 3 удален. Список: [1, 2, 2, 3, 4, 5, 6, 7, 3]\n",
            "Введите элементы кортеджа: 9 0 8\n",
            "Кортеж (9, 0, 8) добавлен в конец списка. Список: [1, 2, 2, 3, 4, 5, 6, 7, 3, 9, 0, 8]\n"
          ]
        }
      ]
    },
    {
      "cell_type": "code",
      "source": [
        "#3\n",
        "import numpy as np\n",
        "M = int(input())\n",
        "N = int(input())\n",
        "mat = np.random.randint(0, 41, size=(M, N))\n",
        "print(mat)\n",
        "\n",
        "mat = mat[:, 1:]\n",
        "print(\"\\n1:\\n\", mat)\n",
        "\n",
        "max1 = np.argmax(mat.max(axis=1))\n",
        "maxr = mat[max1]\n",
        "mat = np.insert(mat, max1 + 1, maxr, axis=0)\n",
        "print(\"\\n2:\\n\",mat)\n",
        "\n",
        "row = mat.sum(axis=1)\n",
        "min1 = np.argmin(row)\n",
        "min2 = row[min1]\n",
        "print(f\"\\n2: {min1 + 1}, значение: {min2}\")\n",
        "\n",
        "c = mat.prod(axis=0)\n",
        "min3 = np.argmin(c)\n",
        "min4 = c[min3]\n",
        "print(f\"\\n4: {min3 + 1}, значение: {min4}\")\n",
        "\n",
        "d = sum(len(set(row)) == len(row) for row in mat)\n",
        "print(f\"\\n5: {d}\")"
      ],
      "metadata": {
        "colab": {
          "base_uri": "https://localhost:8080/"
        },
        "id": "146NyvS6w0am",
        "outputId": "b317ad91-182f-4956-9ca3-48ccd65b0bad"
      },
      "execution_count": null,
      "outputs": [
        {
          "output_type": "stream",
          "name": "stdout",
          "text": [
            "5\n",
            "5\n",
            "[[ 3 40 36 12  1]\n",
            " [21 28 26  2 19]\n",
            " [21 38  2 28 37]\n",
            " [24 34 15  8 12]\n",
            " [10 40 40  4 37]]\n",
            "\n",
            "1:\n",
            " [[40 36 12  1]\n",
            " [28 26  2 19]\n",
            " [38  2 28 37]\n",
            " [34 15  8 12]\n",
            " [40 40  4 37]]\n",
            "\n",
            "2:\n",
            " [[40 36 12  1]\n",
            " [40 36 12  1]\n",
            " [28 26  2 19]\n",
            " [38  2 28 37]\n",
            " [34 15  8 12]\n",
            " [40 40  4 37]]\n",
            "\n",
            "2: 5, значение: 69\n",
            "\n",
            "4: 3, значение: 258048\n",
            "\n",
            "5: 5\n"
          ]
        }
      ]
    },
    {
      "cell_type": "code",
      "source": [
        "#4\n",
        "import matplotlib.pyplot as plt\n",
        "import random\n",
        "\n",
        "M = int(input(\"Введите количество строк: \"))\n",
        "N = int(input(\"Введите количество столбцов: \"))\n",
        "a = [[random.randint(0, 100) for _ in range(N)] for _ in range(M)]\n",
        "\n",
        "a1 = [el for row in a for el in row]\n",
        "\n",
        "plt.figure(figsize=(10, 6))\n",
        "plt.subplot(2, 2, 1)\n",
        "plt.hist(a1, bins=10, edgecolor=\"black\")\n",
        "plt.title(\"Гистограмма\")\n",
        "plt.xlabel(\"Значения\")\n",
        "plt.ylabel(\"Частота\")\n",
        "\n",
        "plt.subplot(2, 2, 2)\n",
        "plt.boxplot(a1)\n",
        "plt.title(\"Ящик с усами\")\n",
        "\n",
        "plt.subplot(2, 2, 3)\n",
        "plt.scatter(range(len(a1)), a1)\n",
        "plt.title(\"Точечный график\")\n",
        "plt.xlabel(\"Индекс\")\n",
        "plt.ylabel(\"Значения\")\n",
        "\n",
        "plt.tight_layout()\n",
        "plt.suptitle(\"Анализ данных двумерного массива\", fontsize=16)\n",
        "plt.show()\n"
      ],
      "metadata": {
        "colab": {
          "base_uri": "https://localhost:8080/",
          "height": 644
        },
        "id": "N9W_QY0pw0jL",
        "outputId": "08c0dd3d-e01c-4eb5-87f8-86d72089fbf0"
      },
      "execution_count": null,
      "outputs": [
        {
          "name": "stdout",
          "output_type": "stream",
          "text": [
            "Введите количество строк: 4\n",
            "Введите количество столбцов: 6\n"
          ]
        },
        {
          "output_type": "display_data",
          "data": {
            "text/plain": [
              "<Figure size 1000x600 with 3 Axes>"
            ],
            "image/png": "[encoded data removed]"
          },
          "metadata": {}
        }
      ]
    }
  ]
}